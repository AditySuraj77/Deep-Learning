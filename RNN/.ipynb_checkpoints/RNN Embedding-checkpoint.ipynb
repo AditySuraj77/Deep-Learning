{
 "cells": [
  {
   "cell_type": "code",
   "execution_count": 3,
   "id": "7929218a",
   "metadata": {},
   "outputs": [],
   "source": [
    "docs = ['go india',\n",
    "        'india india',\n",
    "        'hip hip hurray',\n",
    "        'jeetega bhai jeetega india jeetega',\n",
    "        'bharat mata ki jai',\n",
    "        'kohli kohli',\n",
    "        'sachin sachin',\n",
    "        'dhoni dhoni',\n",
    "        'modi ji ki jai',\n",
    "        'inquilab zindabad']"
   ]
  },
  {
   "cell_type": "code",
   "execution_count": 4,
   "id": "1e6b3165",
   "metadata": {},
   "outputs": [],
   "source": [
    "from keras.preprocessing.text import Tokenizer"
   ]
  },
  {
   "cell_type": "code",
   "execution_count": 5,
   "id": "c1ef25ab",
   "metadata": {},
   "outputs": [],
   "source": [
    "toki = Tokenizer()"
   ]
  },
  {
   "cell_type": "code",
   "execution_count": 6,
   "id": "bf1524ba",
   "metadata": {},
   "outputs": [],
   "source": [
    "toki.fit_on_texts(docs)"
   ]
  },
  {
   "cell_type": "code",
   "execution_count": 8,
   "id": "150ec7e8",
   "metadata": {},
   "outputs": [
    {
     "data": {
      "text/plain": [
       "{'india': 1,\n",
       " 'jeetega': 2,\n",
       " 'hip': 3,\n",
       " 'ki': 4,\n",
       " 'jai': 5,\n",
       " 'kohli': 6,\n",
       " 'sachin': 7,\n",
       " 'dhoni': 8,\n",
       " 'go': 9,\n",
       " 'hurray': 10,\n",
       " 'bhai': 11,\n",
       " 'bharat': 12,\n",
       " 'mata': 13,\n",
       " 'modi': 14,\n",
       " 'ji': 15,\n",
       " 'inquilab': 16,\n",
       " 'zindabad': 17}"
      ]
     },
     "execution_count": 8,
     "metadata": {},
     "output_type": "execute_result"
    }
   ],
   "source": [
    "toki.word_index"
   ]
  },
  {
   "cell_type": "code",
   "execution_count": 9,
   "id": "8d030d01",
   "metadata": {},
   "outputs": [
    {
     "data": {
      "text/plain": [
       "17"
      ]
     },
     "execution_count": 9,
     "metadata": {},
     "output_type": "execute_result"
    }
   ],
   "source": [
    "len(toki.word_index)"
   ]
  },
  {
   "cell_type": "code",
   "execution_count": 10,
   "id": "c6c30ec1",
   "metadata": {},
   "outputs": [],
   "source": [
    "sequence = toki.texts_to_sequences(docs)"
   ]
  },
  {
   "cell_type": "code",
   "execution_count": 11,
   "id": "96fbc9e8",
   "metadata": {},
   "outputs": [
    {
     "data": {
      "text/plain": [
       "[[9, 1],\n",
       " [1, 1],\n",
       " [3, 3, 10],\n",
       " [2, 11, 2, 1, 2],\n",
       " [12, 13, 4, 5],\n",
       " [6, 6],\n",
       " [7, 7],\n",
       " [8, 8],\n",
       " [14, 15, 4, 5],\n",
       " [16, 17]]"
      ]
     },
     "execution_count": 11,
     "metadata": {},
     "output_type": "execute_result"
    }
   ],
   "source": [
    "sequence"
   ]
  },
  {
   "cell_type": "code",
   "execution_count": 12,
   "id": "0cdd5ace",
   "metadata": {},
   "outputs": [],
   "source": [
    "from keras.utils import pad_sequences"
   ]
  },
  {
   "cell_type": "code",
   "execution_count": 13,
   "id": "a4193572",
   "metadata": {},
   "outputs": [],
   "source": [
    "sequence = pad_sequences(sequence,padding='post')"
   ]
  },
  {
   "cell_type": "code",
   "execution_count": 14,
   "id": "fa56e635",
   "metadata": {},
   "outputs": [
    {
     "data": {
      "text/plain": [
       "array([[ 9,  1,  0,  0,  0],\n",
       "       [ 1,  1,  0,  0,  0],\n",
       "       [ 3,  3, 10,  0,  0],\n",
       "       [ 2, 11,  2,  1,  2],\n",
       "       [12, 13,  4,  5,  0],\n",
       "       [ 6,  6,  0,  0,  0],\n",
       "       [ 7,  7,  0,  0,  0],\n",
       "       [ 8,  8,  0,  0,  0],\n",
       "       [14, 15,  4,  5,  0],\n",
       "       [16, 17,  0,  0,  0]])"
      ]
     },
     "execution_count": 14,
     "metadata": {},
     "output_type": "execute_result"
    }
   ],
   "source": [
    "sequence"
   ]
  },
  {
   "cell_type": "code",
   "execution_count": 15,
   "id": "0cee6aaf",
   "metadata": {},
   "outputs": [],
   "source": [
    "from keras import Sequential\n",
    "from keras.layers import Dense, Flatten,Embedding"
   ]
  },
  {
   "cell_type": "code",
   "execution_count": 16,
   "id": "85dc8475",
   "metadata": {},
   "outputs": [],
   "source": [
    "model = Sequential()\n",
    "\n",
    "model.add(Embedding(17,output_dim=2,input_length=5))"
   ]
  },
  {
   "cell_type": "code",
   "execution_count": 17,
   "id": "5921f511",
   "metadata": {},
   "outputs": [
    {
     "name": "stdout",
     "output_type": "stream",
     "text": [
      "Model: \"sequential\"\n",
      "_________________________________________________________________\n",
      " Layer (type)                Output Shape              Param #   \n",
      "=================================================================\n",
      " embedding (Embedding)       (None, 5, 2)              34        \n",
      "                                                                 \n",
      "=================================================================\n",
      "Total params: 34\n",
      "Trainable params: 34\n",
      "Non-trainable params: 0\n",
      "_________________________________________________________________\n"
     ]
    }
   ],
   "source": [
    "model.summary()"
   ]
  },
  {
   "cell_type": "code",
   "execution_count": null,
   "id": "61d1dda8",
   "metadata": {},
   "outputs": [],
   "source": []
  }
 ],
 "metadata": {
  "kernelspec": {
   "display_name": "Python 3 (ipykernel)",
   "language": "python",
   "name": "python3"
  },
  "language_info": {
   "codemirror_mode": {
    "name": "ipython",
    "version": 3
   },
   "file_extension": ".py",
   "mimetype": "text/x-python",
   "name": "python",
   "nbconvert_exporter": "python",
   "pygments_lexer": "ipython3",
   "version": "3.11.2"
  }
 },
 "nbformat": 4,
 "nbformat_minor": 5
}
