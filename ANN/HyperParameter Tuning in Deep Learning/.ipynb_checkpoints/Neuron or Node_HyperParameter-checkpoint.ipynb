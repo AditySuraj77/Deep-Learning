{
 "cells": [
  {
   "cell_type": "code",
   "execution_count": 59,
   "id": "961e940e",
   "metadata": {},
   "outputs": [],
   "source": [
    "import numpy as np\n",
    "import pandas as pd"
   ]
  },
  {
   "cell_type": "code",
   "execution_count": 60,
   "id": "6d60f603",
   "metadata": {},
   "outputs": [],
   "source": [
    "df = pd.read_csv('diabetes.csv')"
   ]
  },
  {
   "cell_type": "code",
   "execution_count": 61,
   "id": "bb687fb0",
   "metadata": {},
   "outputs": [
    {
     "data": {
      "text/html": [
       "<div>\n",
       "<style scoped>\n",
       "    .dataframe tbody tr th:only-of-type {\n",
       "        vertical-align: middle;\n",
       "    }\n",
       "\n",
       "    .dataframe tbody tr th {\n",
       "        vertical-align: top;\n",
       "    }\n",
       "\n",
       "    .dataframe thead th {\n",
       "        text-align: right;\n",
       "    }\n",
       "</style>\n",
       "<table border=\"1\" class=\"dataframe\">\n",
       "  <thead>\n",
       "    <tr style=\"text-align: right;\">\n",
       "      <th></th>\n",
       "      <th>Pregnancies</th>\n",
       "      <th>Glucose</th>\n",
       "      <th>BloodPressure</th>\n",
       "      <th>SkinThickness</th>\n",
       "      <th>Insulin</th>\n",
       "      <th>BMI</th>\n",
       "      <th>DiabetesPedigreeFunction</th>\n",
       "      <th>Age</th>\n",
       "      <th>Outcome</th>\n",
       "    </tr>\n",
       "  </thead>\n",
       "  <tbody>\n",
       "    <tr>\n",
       "      <th>0</th>\n",
       "      <td>6</td>\n",
       "      <td>148</td>\n",
       "      <td>72</td>\n",
       "      <td>35</td>\n",
       "      <td>0</td>\n",
       "      <td>33.6</td>\n",
       "      <td>0.627</td>\n",
       "      <td>50</td>\n",
       "      <td>1</td>\n",
       "    </tr>\n",
       "    <tr>\n",
       "      <th>1</th>\n",
       "      <td>1</td>\n",
       "      <td>85</td>\n",
       "      <td>66</td>\n",
       "      <td>29</td>\n",
       "      <td>0</td>\n",
       "      <td>26.6</td>\n",
       "      <td>0.351</td>\n",
       "      <td>31</td>\n",
       "      <td>0</td>\n",
       "    </tr>\n",
       "    <tr>\n",
       "      <th>2</th>\n",
       "      <td>8</td>\n",
       "      <td>183</td>\n",
       "      <td>64</td>\n",
       "      <td>0</td>\n",
       "      <td>0</td>\n",
       "      <td>23.3</td>\n",
       "      <td>0.672</td>\n",
       "      <td>32</td>\n",
       "      <td>1</td>\n",
       "    </tr>\n",
       "    <tr>\n",
       "      <th>3</th>\n",
       "      <td>1</td>\n",
       "      <td>89</td>\n",
       "      <td>66</td>\n",
       "      <td>23</td>\n",
       "      <td>94</td>\n",
       "      <td>28.1</td>\n",
       "      <td>0.167</td>\n",
       "      <td>21</td>\n",
       "      <td>0</td>\n",
       "    </tr>\n",
       "    <tr>\n",
       "      <th>4</th>\n",
       "      <td>0</td>\n",
       "      <td>137</td>\n",
       "      <td>40</td>\n",
       "      <td>35</td>\n",
       "      <td>168</td>\n",
       "      <td>43.1</td>\n",
       "      <td>2.288</td>\n",
       "      <td>33</td>\n",
       "      <td>1</td>\n",
       "    </tr>\n",
       "  </tbody>\n",
       "</table>\n",
       "</div>"
      ],
      "text/plain": [
       "   Pregnancies  Glucose  BloodPressure  SkinThickness  Insulin   BMI  \\\n",
       "0            6      148             72             35        0  33.6   \n",
       "1            1       85             66             29        0  26.6   \n",
       "2            8      183             64              0        0  23.3   \n",
       "3            1       89             66             23       94  28.1   \n",
       "4            0      137             40             35      168  43.1   \n",
       "\n",
       "   DiabetesPedigreeFunction  Age  Outcome  \n",
       "0                     0.627   50        1  \n",
       "1                     0.351   31        0  \n",
       "2                     0.672   32        1  \n",
       "3                     0.167   21        0  \n",
       "4                     2.288   33        1  "
      ]
     },
     "execution_count": 61,
     "metadata": {},
     "output_type": "execute_result"
    }
   ],
   "source": [
    "df.head()"
   ]
  },
  {
   "cell_type": "code",
   "execution_count": 62,
   "id": "21dbf8f2",
   "metadata": {},
   "outputs": [
    {
     "data": {
      "text/plain": [
       "Pregnancies                 0.221898\n",
       "Glucose                     0.466581\n",
       "BloodPressure               0.065068\n",
       "SkinThickness               0.074752\n",
       "Insulin                     0.130548\n",
       "BMI                         0.292695\n",
       "DiabetesPedigreeFunction    0.173844\n",
       "Age                         0.238356\n",
       "Outcome                     1.000000\n",
       "Name: Outcome, dtype: float64"
      ]
     },
     "execution_count": 62,
     "metadata": {},
     "output_type": "execute_result"
    }
   ],
   "source": [
    "df.corr()['Outcome']"
   ]
  },
  {
   "cell_type": "code",
   "execution_count": 63,
   "id": "868d8ccc",
   "metadata": {},
   "outputs": [
    {
     "data": {
      "text/plain": [
       "Pregnancies                 0\n",
       "Glucose                     0\n",
       "BloodPressure               0\n",
       "SkinThickness               0\n",
       "Insulin                     0\n",
       "BMI                         0\n",
       "DiabetesPedigreeFunction    0\n",
       "Age                         0\n",
       "Outcome                     0\n",
       "dtype: int64"
      ]
     },
     "execution_count": 63,
     "metadata": {},
     "output_type": "execute_result"
    }
   ],
   "source": [
    "df.isnull().sum()"
   ]
  },
  {
   "cell_type": "code",
   "execution_count": 64,
   "id": "db95a4be",
   "metadata": {},
   "outputs": [
    {
     "name": "stdout",
     "output_type": "stream",
     "text": [
      "<class 'pandas.core.frame.DataFrame'>\n",
      "RangeIndex: 768 entries, 0 to 767\n",
      "Data columns (total 9 columns):\n",
      " #   Column                    Non-Null Count  Dtype  \n",
      "---  ------                    --------------  -----  \n",
      " 0   Pregnancies               768 non-null    int64  \n",
      " 1   Glucose                   768 non-null    int64  \n",
      " 2   BloodPressure             768 non-null    int64  \n",
      " 3   SkinThickness             768 non-null    int64  \n",
      " 4   Insulin                   768 non-null    int64  \n",
      " 5   BMI                       768 non-null    float64\n",
      " 6   DiabetesPedigreeFunction  768 non-null    float64\n",
      " 7   Age                       768 non-null    int64  \n",
      " 8   Outcome                   768 non-null    int64  \n",
      "dtypes: float64(2), int64(7)\n",
      "memory usage: 54.1 KB\n"
     ]
    }
   ],
   "source": [
    "df.info()"
   ]
  },
  {
   "cell_type": "code",
   "execution_count": 65,
   "id": "27589856",
   "metadata": {},
   "outputs": [
    {
     "data": {
      "text/plain": [
       "0"
      ]
     },
     "execution_count": 65,
     "metadata": {},
     "output_type": "execute_result"
    }
   ],
   "source": [
    "df.duplicated().sum()"
   ]
  },
  {
   "cell_type": "code",
   "execution_count": 66,
   "id": "01ec8c60",
   "metadata": {},
   "outputs": [],
   "source": [
    "X = df.drop(columns='Outcome', axis=1)\n",
    "Y = df['Outcome']"
   ]
  },
  {
   "cell_type": "code",
   "execution_count": 67,
   "id": "f31d9530",
   "metadata": {},
   "outputs": [
    {
     "name": "stdout",
     "output_type": "stream",
     "text": [
      "     Pregnancies  Glucose  BloodPressure  SkinThickness  Insulin   BMI  \\\n",
      "0              6      148             72             35        0  33.6   \n",
      "1              1       85             66             29        0  26.6   \n",
      "2              8      183             64              0        0  23.3   \n",
      "3              1       89             66             23       94  28.1   \n",
      "4              0      137             40             35      168  43.1   \n",
      "..           ...      ...            ...            ...      ...   ...   \n",
      "763           10      101             76             48      180  32.9   \n",
      "764            2      122             70             27        0  36.8   \n",
      "765            5      121             72             23      112  26.2   \n",
      "766            1      126             60              0        0  30.1   \n",
      "767            1       93             70             31        0  30.4   \n",
      "\n",
      "     DiabetesPedigreeFunction  Age  \n",
      "0                       0.627   50  \n",
      "1                       0.351   31  \n",
      "2                       0.672   32  \n",
      "3                       0.167   21  \n",
      "4                       2.288   33  \n",
      "..                        ...  ...  \n",
      "763                     0.171   63  \n",
      "764                     0.340   27  \n",
      "765                     0.245   30  \n",
      "766                     0.349   47  \n",
      "767                     0.315   23  \n",
      "\n",
      "[768 rows x 8 columns]\n",
      "0      1\n",
      "1      0\n",
      "2      1\n",
      "3      0\n",
      "4      1\n",
      "      ..\n",
      "763    0\n",
      "764    0\n",
      "765    0\n",
      "766    1\n",
      "767    0\n",
      "Name: Outcome, Length: 768, dtype: int64\n"
     ]
    }
   ],
   "source": [
    "print(X)\n",
    "print(Y)"
   ]
  },
  {
   "cell_type": "code",
   "execution_count": 68,
   "id": "c06d0c7e",
   "metadata": {},
   "outputs": [],
   "source": [
    "from sklearn.preprocessing import StandardScaler"
   ]
  },
  {
   "cell_type": "code",
   "execution_count": 69,
   "id": "18842dca",
   "metadata": {},
   "outputs": [],
   "source": [
    "scaler = StandardScaler()"
   ]
  },
  {
   "cell_type": "code",
   "execution_count": 70,
   "id": "18dab87f",
   "metadata": {},
   "outputs": [],
   "source": [
    "X = scaler.fit_transform(X)"
   ]
  },
  {
   "cell_type": "code",
   "execution_count": 71,
   "id": "3637ed59",
   "metadata": {},
   "outputs": [
    {
     "name": "stdout",
     "output_type": "stream",
     "text": [
      "[[ 0.63994726  0.84832379  0.14964075 ...  0.20401277  0.46849198\n",
      "   1.4259954 ]\n",
      " [-0.84488505 -1.12339636 -0.16054575 ... -0.68442195 -0.36506078\n",
      "  -0.19067191]\n",
      " [ 1.23388019  1.94372388 -0.26394125 ... -1.10325546  0.60439732\n",
      "  -0.10558415]\n",
      " ...\n",
      " [ 0.3429808   0.00330087  0.14964075 ... -0.73518964 -0.68519336\n",
      "  -0.27575966]\n",
      " [-0.84488505  0.1597866  -0.47073225 ... -0.24020459 -0.37110101\n",
      "   1.17073215]\n",
      " [-0.84488505 -0.8730192   0.04624525 ... -0.20212881 -0.47378505\n",
      "  -0.87137393]]\n"
     ]
    }
   ],
   "source": [
    "print(X)"
   ]
  },
  {
   "cell_type": "code",
   "execution_count": 72,
   "id": "173d9007",
   "metadata": {},
   "outputs": [],
   "source": [
    "from sklearn.model_selection import train_test_split"
   ]
  },
  {
   "cell_type": "code",
   "execution_count": 73,
   "id": "db4a1873",
   "metadata": {},
   "outputs": [],
   "source": [
    "X_train,X_test,Y_train,Y_test = train_test_split(X,Y,test_size=0.1,random_state=1)"
   ]
  },
  {
   "cell_type": "code",
   "execution_count": 74,
   "id": "66a5bd68",
   "metadata": {},
   "outputs": [
    {
     "name": "stdout",
     "output_type": "stream",
     "text": [
      "(768, 8) (691, 8) (77, 8)\n"
     ]
    }
   ],
   "source": [
    "print(X.shape,X_train.shape,X_test.shape)"
   ]
  },
  {
   "cell_type": "code",
   "execution_count": 75,
   "id": "8c2ac337",
   "metadata": {},
   "outputs": [],
   "source": [
    "import tensorflow\n",
    "from tensorflow import keras\n",
    "from keras import Sequential\n",
    "from keras.layers import Dense"
   ]
  },
  {
   "cell_type": "code",
   "execution_count": 76,
   "id": "fd5fc722",
   "metadata": {},
   "outputs": [],
   "source": [
    "model = Sequential()"
   ]
  },
  {
   "cell_type": "code",
   "execution_count": 77,
   "id": "9d719659",
   "metadata": {},
   "outputs": [],
   "source": [
    "model.add(Dense(32,activation='relu',input_dim=8))\n",
    "model.add(Dense(1, activation='sigmoid'))\n",
    "\n",
    "model.compile(optimizer='Adam',loss='binary_crossentropy',metrics=['accuracy'])"
   ]
  },
  {
   "cell_type": "code",
   "execution_count": 78,
   "id": "99d6a0f2",
   "metadata": {},
   "outputs": [
    {
     "name": "stdout",
     "output_type": "stream",
     "text": [
      "Epoch 1/10\n",
      "22/22 [==============================] - 3s 30ms/step - loss: 0.6686 - accuracy: 0.6151 - val_loss: 0.5984 - val_accuracy: 0.7143\n",
      "Epoch 2/10\n",
      "22/22 [==============================] - 0s 10ms/step - loss: 0.6102 - accuracy: 0.7019 - val_loss: 0.5589 - val_accuracy: 0.7662\n",
      "Epoch 3/10\n",
      "22/22 [==============================] - 0s 9ms/step - loss: 0.5714 - accuracy: 0.7236 - val_loss: 0.5303 - val_accuracy: 0.7792\n",
      "Epoch 4/10\n",
      "22/22 [==============================] - 0s 9ms/step - loss: 0.5426 - accuracy: 0.7323 - val_loss: 0.5095 - val_accuracy: 0.7792\n",
      "Epoch 5/10\n",
      "22/22 [==============================] - 0s 8ms/step - loss: 0.5219 - accuracy: 0.7438 - val_loss: 0.4958 - val_accuracy: 0.7922\n",
      "Epoch 6/10\n",
      "22/22 [==============================] - 0s 9ms/step - loss: 0.5065 - accuracy: 0.7525 - val_loss: 0.4851 - val_accuracy: 0.8052\n",
      "Epoch 7/10\n",
      "22/22 [==============================] - 0s 9ms/step - loss: 0.4944 - accuracy: 0.7598 - val_loss: 0.4763 - val_accuracy: 0.8052\n",
      "Epoch 8/10\n",
      "22/22 [==============================] - 0s 9ms/step - loss: 0.4848 - accuracy: 0.7670 - val_loss: 0.4692 - val_accuracy: 0.7922\n",
      "Epoch 9/10\n",
      "22/22 [==============================] - 0s 9ms/step - loss: 0.4776 - accuracy: 0.7670 - val_loss: 0.4664 - val_accuracy: 0.7922\n",
      "Epoch 10/10\n",
      "22/22 [==============================] - 0s 9ms/step - loss: 0.4709 - accuracy: 0.7685 - val_loss: 0.4628 - val_accuracy: 0.8052\n"
     ]
    },
    {
     "data": {
      "text/plain": [
       "<keras.callbacks.History at 0x17e7d291050>"
      ]
     },
     "execution_count": 78,
     "metadata": {},
     "output_type": "execute_result"
    }
   ],
   "source": [
    "model.fit(X_train,Y_train,batch_size=32,epochs=10, validation_data=(X_test,Y_test))"
   ]
  },
  {
   "cell_type": "markdown",
   "id": "b1f3a6bf",
   "metadata": {},
   "source": [
    "# Hyperparameter for Node or Neuron \n",
    "\n",
    "## THis process was give me best Number of Neuron or Node for our model"
   ]
  },
  {
   "cell_type": "code",
   "execution_count": 90,
   "id": "68eb8c34",
   "metadata": {},
   "outputs": [],
   "source": [
    "import keras_tuner as kt"
   ]
  },
  {
   "cell_type": "code",
   "execution_count": 94,
   "id": "17e750b0",
   "metadata": {},
   "outputs": [],
   "source": [
    "def build_model(hp):\n",
    "    model = Sequential()\n",
    "    \n",
    "    units = hp.Int('units',min_value= 8, max_value=128)\n",
    "    \n",
    "    model.add(Dense(units=units, activation='relu',input_dim=8))\n",
    "    model.add(Dense(1,activation='sigmoid'))\n",
    "    \n",
    "    model.compile(optimizer='RMSprop', loss='binary_crossentropy', metrics=['accuracy'])\n",
    "    \n",
    "    return model"
   ]
  },
  {
   "cell_type": "code",
   "execution_count": 95,
   "id": "cd39d88e",
   "metadata": {},
   "outputs": [],
   "source": [
    "tuner = kt.RandomSearch(build_model,\n",
    "                        objective='val_accuracy',\n",
    "                        max_trials=5,\n",
    "                        directory='mydic',\n",
    "                        project_name='neuron')"
   ]
  },
  {
   "cell_type": "code",
   "execution_count": 96,
   "id": "85d28760",
   "metadata": {},
   "outputs": [
    {
     "name": "stdout",
     "output_type": "stream",
     "text": [
      "Trial 5 Complete [00h 00m 05s]\n",
      "val_accuracy: 0.7792207598686218\n",
      "\n",
      "Best val_accuracy So Far: 0.7792207598686218\n",
      "Total elapsed time: 00h 00m 27s\n",
      "INFO:tensorflow:Oracle triggered exit\n"
     ]
    }
   ],
   "source": [
    "tuner.search(X_train,Y_train,epochs=5,validation_data=(X_test,Y_test))"
   ]
  },
  {
   "cell_type": "code",
   "execution_count": 97,
   "id": "9f31c13c",
   "metadata": {},
   "outputs": [
    {
     "data": {
      "text/plain": [
       "{'units': 87}"
      ]
     },
     "execution_count": 97,
     "metadata": {},
     "output_type": "execute_result"
    }
   ],
   "source": [
    "tuner.get_best_hyperparameters()[0].values"
   ]
  },
  {
   "cell_type": "code",
   "execution_count": 98,
   "id": "edeb6076",
   "metadata": {},
   "outputs": [],
   "source": [
    "model = tuner.get_best_models(num_models=1)[0]"
   ]
  },
  {
   "cell_type": "code",
   "execution_count": 100,
   "id": "4c3a1592",
   "metadata": {},
   "outputs": [
    {
     "name": "stdout",
     "output_type": "stream",
     "text": [
      "Epoch 7/100\n",
      "22/22 [==============================] - 2s 31ms/step - loss: 0.4879 - accuracy: 0.7742 - val_loss: 0.4803 - val_accuracy: 0.7792\n",
      "Epoch 8/100\n",
      "22/22 [==============================] - 0s 9ms/step - loss: 0.4767 - accuracy: 0.7771 - val_loss: 0.4723 - val_accuracy: 0.7662\n",
      "Epoch 9/100\n",
      "22/22 [==============================] - 0s 9ms/step - loss: 0.4681 - accuracy: 0.7728 - val_loss: 0.4708 - val_accuracy: 0.7792\n",
      "Epoch 10/100\n",
      "22/22 [==============================] - 0s 8ms/step - loss: 0.4638 - accuracy: 0.7757 - val_loss: 0.4681 - val_accuracy: 0.7792\n",
      "Epoch 11/100\n",
      "22/22 [==============================] - 0s 9ms/step - loss: 0.4595 - accuracy: 0.7771 - val_loss: 0.4642 - val_accuracy: 0.7792\n",
      "Epoch 12/100\n",
      "22/22 [==============================] - 0s 10ms/step - loss: 0.4565 - accuracy: 0.7786 - val_loss: 0.4601 - val_accuracy: 0.7792\n",
      "Epoch 13/100\n",
      "22/22 [==============================] - 0s 9ms/step - loss: 0.4542 - accuracy: 0.7800 - val_loss: 0.4588 - val_accuracy: 0.7792\n",
      "Epoch 14/100\n",
      "22/22 [==============================] - 0s 9ms/step - loss: 0.4520 - accuracy: 0.7771 - val_loss: 0.4583 - val_accuracy: 0.7792\n",
      "Epoch 15/100\n",
      "22/22 [==============================] - 0s 9ms/step - loss: 0.4506 - accuracy: 0.7800 - val_loss: 0.4573 - val_accuracy: 0.7792\n",
      "Epoch 16/100\n",
      "22/22 [==============================] - 0s 10ms/step - loss: 0.4488 - accuracy: 0.7800 - val_loss: 0.4556 - val_accuracy: 0.7792\n",
      "Epoch 17/100\n",
      "22/22 [==============================] - 0s 8ms/step - loss: 0.4467 - accuracy: 0.7844 - val_loss: 0.4525 - val_accuracy: 0.7792\n",
      "Epoch 18/100\n",
      "22/22 [==============================] - 0s 9ms/step - loss: 0.4459 - accuracy: 0.7844 - val_loss: 0.4518 - val_accuracy: 0.7792\n",
      "Epoch 19/100\n",
      "22/22 [==============================] - 0s 9ms/step - loss: 0.4445 - accuracy: 0.7829 - val_loss: 0.4519 - val_accuracy: 0.7792\n",
      "Epoch 20/100\n",
      "22/22 [==============================] - 0s 9ms/step - loss: 0.4435 - accuracy: 0.7815 - val_loss: 0.4527 - val_accuracy: 0.7792\n",
      "Epoch 21/100\n",
      "22/22 [==============================] - 0s 8ms/step - loss: 0.4428 - accuracy: 0.7858 - val_loss: 0.4514 - val_accuracy: 0.7792\n",
      "Epoch 22/100\n",
      "22/22 [==============================] - 0s 9ms/step - loss: 0.4415 - accuracy: 0.7873 - val_loss: 0.4502 - val_accuracy: 0.7792\n",
      "Epoch 23/100\n",
      "22/22 [==============================] - 0s 10ms/step - loss: 0.4396 - accuracy: 0.7844 - val_loss: 0.4489 - val_accuracy: 0.7792\n",
      "Epoch 24/100\n",
      "22/22 [==============================] - 0s 9ms/step - loss: 0.4395 - accuracy: 0.7887 - val_loss: 0.4478 - val_accuracy: 0.7792\n",
      "Epoch 25/100\n",
      "22/22 [==============================] - 0s 9ms/step - loss: 0.4382 - accuracy: 0.7902 - val_loss: 0.4464 - val_accuracy: 0.7792\n",
      "Epoch 26/100\n",
      "22/22 [==============================] - 0s 9ms/step - loss: 0.4376 - accuracy: 0.7873 - val_loss: 0.4451 - val_accuracy: 0.7792\n",
      "Epoch 27/100\n",
      "22/22 [==============================] - 0s 10ms/step - loss: 0.4364 - accuracy: 0.7902 - val_loss: 0.4451 - val_accuracy: 0.7792\n",
      "Epoch 28/100\n",
      "22/22 [==============================] - 0s 9ms/step - loss: 0.4354 - accuracy: 0.7887 - val_loss: 0.4466 - val_accuracy: 0.7922\n",
      "Epoch 29/100\n",
      "22/22 [==============================] - 0s 8ms/step - loss: 0.4353 - accuracy: 0.7988 - val_loss: 0.4460 - val_accuracy: 0.7792\n",
      "Epoch 30/100\n",
      "22/22 [==============================] - 0s 10ms/step - loss: 0.4344 - accuracy: 0.7974 - val_loss: 0.4451 - val_accuracy: 0.7792\n",
      "Epoch 31/100\n",
      "22/22 [==============================] - 0s 10ms/step - loss: 0.4331 - accuracy: 0.7931 - val_loss: 0.4438 - val_accuracy: 0.7662\n",
      "Epoch 32/100\n",
      "22/22 [==============================] - 0s 9ms/step - loss: 0.4327 - accuracy: 0.7931 - val_loss: 0.4425 - val_accuracy: 0.7662\n",
      "Epoch 33/100\n",
      "22/22 [==============================] - 0s 9ms/step - loss: 0.4320 - accuracy: 0.7959 - val_loss: 0.4435 - val_accuracy: 0.7792\n",
      "Epoch 34/100\n",
      "22/22 [==============================] - 0s 8ms/step - loss: 0.4309 - accuracy: 0.7988 - val_loss: 0.4437 - val_accuracy: 0.7792\n",
      "Epoch 35/100\n",
      "22/22 [==============================] - 0s 9ms/step - loss: 0.4309 - accuracy: 0.7916 - val_loss: 0.4423 - val_accuracy: 0.7792\n",
      "Epoch 36/100\n",
      "22/22 [==============================] - 0s 8ms/step - loss: 0.4297 - accuracy: 0.7959 - val_loss: 0.4428 - val_accuracy: 0.7922\n",
      "Epoch 37/100\n",
      "22/22 [==============================] - 0s 8ms/step - loss: 0.4296 - accuracy: 0.7959 - val_loss: 0.4424 - val_accuracy: 0.7922\n",
      "Epoch 38/100\n",
      "22/22 [==============================] - 0s 9ms/step - loss: 0.4287 - accuracy: 0.7916 - val_loss: 0.4407 - val_accuracy: 0.7922\n",
      "Epoch 39/100\n",
      "22/22 [==============================] - 0s 9ms/step - loss: 0.4283 - accuracy: 0.7959 - val_loss: 0.4403 - val_accuracy: 0.7922\n",
      "Epoch 40/100\n",
      "22/22 [==============================] - 0s 14ms/step - loss: 0.4275 - accuracy: 0.7931 - val_loss: 0.4400 - val_accuracy: 0.7922\n",
      "Epoch 41/100\n",
      "22/22 [==============================] - 0s 10ms/step - loss: 0.4271 - accuracy: 0.8017 - val_loss: 0.4390 - val_accuracy: 0.7922\n",
      "Epoch 42/100\n",
      "22/22 [==============================] - 0s 9ms/step - loss: 0.4261 - accuracy: 0.7974 - val_loss: 0.4393 - val_accuracy: 0.7922\n",
      "Epoch 43/100\n",
      "22/22 [==============================] - 0s 10ms/step - loss: 0.4253 - accuracy: 0.8003 - val_loss: 0.4400 - val_accuracy: 0.7922\n",
      "Epoch 44/100\n",
      "22/22 [==============================] - 0s 9ms/step - loss: 0.4245 - accuracy: 0.8017 - val_loss: 0.4364 - val_accuracy: 0.7922\n",
      "Epoch 45/100\n",
      "22/22 [==============================] - 0s 9ms/step - loss: 0.4251 - accuracy: 0.8032 - val_loss: 0.4369 - val_accuracy: 0.7922\n",
      "Epoch 46/100\n",
      "22/22 [==============================] - 0s 10ms/step - loss: 0.4238 - accuracy: 0.8075 - val_loss: 0.4362 - val_accuracy: 0.7922\n",
      "Epoch 47/100\n",
      "22/22 [==============================] - 0s 9ms/step - loss: 0.4238 - accuracy: 0.7974 - val_loss: 0.4359 - val_accuracy: 0.7922\n",
      "Epoch 48/100\n",
      "22/22 [==============================] - 0s 13ms/step - loss: 0.4228 - accuracy: 0.8090 - val_loss: 0.4355 - val_accuracy: 0.7922\n",
      "Epoch 49/100\n",
      "22/22 [==============================] - 0s 7ms/step - loss: 0.4219 - accuracy: 0.8090 - val_loss: 0.4348 - val_accuracy: 0.7922\n",
      "Epoch 50/100\n",
      "22/22 [==============================] - 0s 9ms/step - loss: 0.4219 - accuracy: 0.8133 - val_loss: 0.4346 - val_accuracy: 0.7922\n",
      "Epoch 51/100\n",
      "22/22 [==============================] - 0s 8ms/step - loss: 0.4211 - accuracy: 0.8104 - val_loss: 0.4342 - val_accuracy: 0.7922\n",
      "Epoch 52/100\n",
      "22/22 [==============================] - 0s 10ms/step - loss: 0.4205 - accuracy: 0.8162 - val_loss: 0.4351 - val_accuracy: 0.7922\n",
      "Epoch 53/100\n",
      "22/22 [==============================] - 0s 9ms/step - loss: 0.4203 - accuracy: 0.8133 - val_loss: 0.4342 - val_accuracy: 0.7922\n",
      "Epoch 54/100\n",
      "22/22 [==============================] - 0s 8ms/step - loss: 0.4202 - accuracy: 0.8133 - val_loss: 0.4337 - val_accuracy: 0.7922\n",
      "Epoch 55/100\n",
      "22/22 [==============================] - 0s 9ms/step - loss: 0.4190 - accuracy: 0.8119 - val_loss: 0.4346 - val_accuracy: 0.7922\n",
      "Epoch 56/100\n",
      "22/22 [==============================] - 0s 8ms/step - loss: 0.4192 - accuracy: 0.8162 - val_loss: 0.4320 - val_accuracy: 0.7922\n",
      "Epoch 57/100\n",
      "22/22 [==============================] - 0s 10ms/step - loss: 0.4183 - accuracy: 0.8148 - val_loss: 0.4322 - val_accuracy: 0.7922\n",
      "Epoch 58/100\n",
      "22/22 [==============================] - 0s 9ms/step - loss: 0.4175 - accuracy: 0.8133 - val_loss: 0.4313 - val_accuracy: 0.8182\n",
      "Epoch 59/100\n",
      "22/22 [==============================] - 0s 9ms/step - loss: 0.4176 - accuracy: 0.8162 - val_loss: 0.4310 - val_accuracy: 0.7922\n",
      "Epoch 60/100\n",
      "22/22 [==============================] - 0s 9ms/step - loss: 0.4170 - accuracy: 0.8177 - val_loss: 0.4336 - val_accuracy: 0.7922\n",
      "Epoch 61/100\n",
      "22/22 [==============================] - 0s 9ms/step - loss: 0.4161 - accuracy: 0.8133 - val_loss: 0.4316 - val_accuracy: 0.7922\n",
      "Epoch 62/100\n",
      "22/22 [==============================] - 0s 10ms/step - loss: 0.4157 - accuracy: 0.8177 - val_loss: 0.4312 - val_accuracy: 0.8052\n",
      "Epoch 63/100\n",
      "22/22 [==============================] - 0s 9ms/step - loss: 0.4155 - accuracy: 0.8205 - val_loss: 0.4297 - val_accuracy: 0.8182\n",
      "Epoch 64/100\n"
     ]
    },
    {
     "name": "stdout",
     "output_type": "stream",
     "text": [
      "22/22 [==============================] - 0s 9ms/step - loss: 0.4156 - accuracy: 0.8148 - val_loss: 0.4285 - val_accuracy: 0.8182\n",
      "Epoch 65/100\n",
      "22/22 [==============================] - 0s 7ms/step - loss: 0.4143 - accuracy: 0.8205 - val_loss: 0.4281 - val_accuracy: 0.8182\n",
      "Epoch 66/100\n",
      "22/22 [==============================] - 0s 8ms/step - loss: 0.4141 - accuracy: 0.8162 - val_loss: 0.4293 - val_accuracy: 0.8182\n",
      "Epoch 67/100\n",
      "22/22 [==============================] - 0s 7ms/step - loss: 0.4141 - accuracy: 0.8177 - val_loss: 0.4288 - val_accuracy: 0.8052\n",
      "Epoch 68/100\n",
      "22/22 [==============================] - 0s 7ms/step - loss: 0.4128 - accuracy: 0.8177 - val_loss: 0.4288 - val_accuracy: 0.8182\n",
      "Epoch 69/100\n",
      "22/22 [==============================] - 0s 8ms/step - loss: 0.4127 - accuracy: 0.8177 - val_loss: 0.4286 - val_accuracy: 0.8052\n",
      "Epoch 70/100\n",
      "22/22 [==============================] - 0s 8ms/step - loss: 0.4121 - accuracy: 0.8162 - val_loss: 0.4273 - val_accuracy: 0.8182\n",
      "Epoch 71/100\n",
      "22/22 [==============================] - 0s 9ms/step - loss: 0.4124 - accuracy: 0.8162 - val_loss: 0.4281 - val_accuracy: 0.8182\n",
      "Epoch 72/100\n",
      "22/22 [==============================] - 0s 8ms/step - loss: 0.4114 - accuracy: 0.8220 - val_loss: 0.4283 - val_accuracy: 0.8182\n",
      "Epoch 73/100\n",
      "22/22 [==============================] - 0s 7ms/step - loss: 0.4111 - accuracy: 0.8191 - val_loss: 0.4265 - val_accuracy: 0.8182\n",
      "Epoch 74/100\n",
      "22/22 [==============================] - 0s 7ms/step - loss: 0.4109 - accuracy: 0.8148 - val_loss: 0.4280 - val_accuracy: 0.8182\n",
      "Epoch 75/100\n",
      "22/22 [==============================] - 0s 8ms/step - loss: 0.4107 - accuracy: 0.8234 - val_loss: 0.4268 - val_accuracy: 0.8182\n",
      "Epoch 76/100\n",
      "22/22 [==============================] - 0s 7ms/step - loss: 0.4094 - accuracy: 0.8191 - val_loss: 0.4282 - val_accuracy: 0.7922\n",
      "Epoch 77/100\n",
      "22/22 [==============================] - 0s 7ms/step - loss: 0.4092 - accuracy: 0.8205 - val_loss: 0.4243 - val_accuracy: 0.8052\n",
      "Epoch 78/100\n",
      "22/22 [==============================] - 0s 8ms/step - loss: 0.4094 - accuracy: 0.8191 - val_loss: 0.4257 - val_accuracy: 0.8182\n",
      "Epoch 79/100\n",
      "22/22 [==============================] - 0s 7ms/step - loss: 0.4088 - accuracy: 0.8220 - val_loss: 0.4256 - val_accuracy: 0.8182\n",
      "Epoch 80/100\n",
      "22/22 [==============================] - 0s 8ms/step - loss: 0.4087 - accuracy: 0.8191 - val_loss: 0.4249 - val_accuracy: 0.8052\n",
      "Epoch 81/100\n",
      "22/22 [==============================] - 0s 9ms/step - loss: 0.4079 - accuracy: 0.8234 - val_loss: 0.4254 - val_accuracy: 0.8182\n",
      "Epoch 82/100\n",
      "22/22 [==============================] - 0s 7ms/step - loss: 0.4075 - accuracy: 0.8234 - val_loss: 0.4275 - val_accuracy: 0.8182\n",
      "Epoch 83/100\n",
      "22/22 [==============================] - 0s 7ms/step - loss: 0.4062 - accuracy: 0.8278 - val_loss: 0.4268 - val_accuracy: 0.8182\n",
      "Epoch 84/100\n",
      "22/22 [==============================] - 0s 8ms/step - loss: 0.4063 - accuracy: 0.8249 - val_loss: 0.4244 - val_accuracy: 0.8182\n",
      "Epoch 85/100\n",
      "22/22 [==============================] - 0s 7ms/step - loss: 0.4068 - accuracy: 0.8220 - val_loss: 0.4259 - val_accuracy: 0.8052\n",
      "Epoch 86/100\n",
      "22/22 [==============================] - 0s 7ms/step - loss: 0.4053 - accuracy: 0.8292 - val_loss: 0.4262 - val_accuracy: 0.8182\n",
      "Epoch 87/100\n",
      "22/22 [==============================] - 0s 7ms/step - loss: 0.4046 - accuracy: 0.8263 - val_loss: 0.4251 - val_accuracy: 0.8182\n",
      "Epoch 88/100\n",
      "22/22 [==============================] - 0s 8ms/step - loss: 0.4047 - accuracy: 0.8249 - val_loss: 0.4256 - val_accuracy: 0.8182\n",
      "Epoch 89/100\n",
      "22/22 [==============================] - 0s 7ms/step - loss: 0.4051 - accuracy: 0.8234 - val_loss: 0.4245 - val_accuracy: 0.8182\n",
      "Epoch 90/100\n",
      "22/22 [==============================] - 0s 8ms/step - loss: 0.4040 - accuracy: 0.8234 - val_loss: 0.4259 - val_accuracy: 0.8182\n",
      "Epoch 91/100\n",
      "22/22 [==============================] - 0s 9ms/step - loss: 0.4038 - accuracy: 0.8249 - val_loss: 0.4249 - val_accuracy: 0.8182\n",
      "Epoch 92/100\n",
      "22/22 [==============================] - 0s 7ms/step - loss: 0.4038 - accuracy: 0.8249 - val_loss: 0.4250 - val_accuracy: 0.8182\n",
      "Epoch 93/100\n",
      "22/22 [==============================] - 0s 9ms/step - loss: 0.4023 - accuracy: 0.8263 - val_loss: 0.4236 - val_accuracy: 0.8052\n",
      "Epoch 94/100\n",
      "22/22 [==============================] - 0s 10ms/step - loss: 0.4030 - accuracy: 0.8220 - val_loss: 0.4249 - val_accuracy: 0.8182\n",
      "Epoch 95/100\n",
      "22/22 [==============================] - 0s 11ms/step - loss: 0.4020 - accuracy: 0.8292 - val_loss: 0.4238 - val_accuracy: 0.8182\n",
      "Epoch 96/100\n",
      "22/22 [==============================] - 0s 15ms/step - loss: 0.4011 - accuracy: 0.8191 - val_loss: 0.4274 - val_accuracy: 0.8182\n",
      "Epoch 97/100\n",
      "22/22 [==============================] - 0s 7ms/step - loss: 0.4015 - accuracy: 0.8220 - val_loss: 0.4227 - val_accuracy: 0.8052\n",
      "Epoch 98/100\n",
      "22/22 [==============================] - 0s 6ms/step - loss: 0.4007 - accuracy: 0.8263 - val_loss: 0.4238 - val_accuracy: 0.8182\n",
      "Epoch 99/100\n",
      "22/22 [==============================] - 0s 7ms/step - loss: 0.4007 - accuracy: 0.8292 - val_loss: 0.4233 - val_accuracy: 0.8052\n",
      "Epoch 100/100\n",
      "22/22 [==============================] - 0s 9ms/step - loss: 0.3998 - accuracy: 0.8263 - val_loss: 0.4237 - val_accuracy: 0.8182\n"
     ]
    },
    {
     "data": {
      "text/plain": [
       "<keras.callbacks.History at 0x17e7d285510>"
      ]
     },
     "execution_count": 100,
     "metadata": {},
     "output_type": "execute_result"
    }
   ],
   "source": [
    "model.fit(X_train,Y_train, epochs=100, initial_epoch=6,batch_size=32, validation_data=(X_test,Y_test))"
   ]
  },
  {
   "cell_type": "code",
   "execution_count": null,
   "id": "6d5ec9fe",
   "metadata": {},
   "outputs": [],
   "source": []
  }
 ],
 "metadata": {
  "kernelspec": {
   "display_name": "Python 3 (ipykernel)",
   "language": "python",
   "name": "python3"
  },
  "language_info": {
   "codemirror_mode": {
    "name": "ipython",
    "version": 3
   },
   "file_extension": ".py",
   "mimetype": "text/x-python",
   "name": "python",
   "nbconvert_exporter": "python",
   "pygments_lexer": "ipython3",
   "version": "3.11.2"
  }
 },
 "nbformat": 4,
 "nbformat_minor": 5
}
