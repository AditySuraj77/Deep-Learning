{
 "cells": [
  {
   "cell_type": "code",
   "execution_count": 2,
   "id": "cba12c4b",
   "metadata": {},
   "outputs": [],
   "source": [
    "import cv2\n",
    "import os\n",
    "import numpy as np\n",
    "import random"
   ]
  },
  {
   "cell_type": "code",
   "execution_count": 25,
   "id": "4e27b1e6",
   "metadata": {},
   "outputs": [],
   "source": [
    "mydir = r'C:\\Users\\user.LAPTOP\\Desktop\\Deep Learning\\CNN\\Train'"
   ]
  },
  {
   "cell_type": "code",
   "execution_count": 26,
   "id": "f182265a",
   "metadata": {},
   "outputs": [],
   "source": [
    "categories = ['Elephant','Horse']"
   ]
  },
  {
   "cell_type": "code",
   "execution_count": 27,
   "id": "65b07220",
   "metadata": {},
   "outputs": [],
   "source": [
    "data = []"
   ]
  },
  {
   "cell_type": "code",
   "execution_count": 28,
   "id": "0c2f85a1",
   "metadata": {},
   "outputs": [
    {
     "ename": "FileNotFoundError",
     "evalue": "[WinError 3] The system cannot find the path specified: 'C:\\\\Users\\\\user.LAPTOP\\\\Desktop\\\\Deep Learning\\\\CNN\\\\Train\\\\Elephant'",
     "output_type": "error",
     "traceback": [
      "\u001b[1;31m---------------------------------------------------------------------------\u001b[0m",
      "\u001b[1;31mFileNotFoundError\u001b[0m                         Traceback (most recent call last)",
      "Cell \u001b[1;32mIn[28], line 10\u001b[0m\n\u001b[0;32m      6\u001b[0m \u001b[38;5;28;01melse\u001b[39;00m:\n\u001b[0;32m      7\u001b[0m     label \u001b[38;5;241m=\u001b[39m \u001b[38;5;241m0\u001b[39m\n\u001b[1;32m---> 10\u001b[0m \u001b[38;5;28;01mfor\u001b[39;00m j \u001b[38;5;129;01min\u001b[39;00m \u001b[43mos\u001b[49m\u001b[38;5;241;43m.\u001b[39;49m\u001b[43mlistdir\u001b[49m\u001b[43m(\u001b[49m\u001b[43mfile_pathe\u001b[49m\u001b[43m)\u001b[49m:\n\u001b[0;32m     12\u001b[0m     image_path \u001b[38;5;241m=\u001b[39m os\u001b[38;5;241m.\u001b[39mpath\u001b[38;5;241m.\u001b[39mjoin(file_pathe,j)\n\u001b[0;32m     13\u001b[0m     img \u001b[38;5;241m=\u001b[39m cv2\u001b[38;5;241m.\u001b[39mimread(image_path)\n",
      "\u001b[1;31mFileNotFoundError\u001b[0m: [WinError 3] The system cannot find the path specified: 'C:\\\\Users\\\\user.LAPTOP\\\\Desktop\\\\Deep Learning\\\\CNN\\\\Train\\\\Elephant'"
     ]
    }
   ],
   "source": [
    "for i in categories:\n",
    "    file_pathe = os.path.join(mydir,i)\n",
    "    \n",
    "    if i == 'Elephant':\n",
    "        label = 1\n",
    "    else:\n",
    "        label = 0\n",
    "    \n",
    "    \n",
    "    for j in os.listdir(file_pathe):\n",
    "        \n",
    "        image_path = os.path.join(file_pathe,j)\n",
    "        img = cv2.imread(image_path)\n",
    "        img = cv2.resize(img(150,150))\n",
    "        data.append([img.label])"
   ]
  },
  {
   "cell_type": "code",
   "execution_count": null,
   "id": "3b60ac87",
   "metadata": {},
   "outputs": [],
   "source": []
  }
 ],
 "metadata": {
  "kernelspec": {
   "display_name": "Python 3 (ipykernel)",
   "language": "python",
   "name": "python3"
  },
  "language_info": {
   "codemirror_mode": {
    "name": "ipython",
    "version": 3
   },
   "file_extension": ".py",
   "mimetype": "text/x-python",
   "name": "python",
   "nbconvert_exporter": "python",
   "pygments_lexer": "ipython3",
   "version": "3.11.2"
  }
 },
 "nbformat": 4,
 "nbformat_minor": 5
}
