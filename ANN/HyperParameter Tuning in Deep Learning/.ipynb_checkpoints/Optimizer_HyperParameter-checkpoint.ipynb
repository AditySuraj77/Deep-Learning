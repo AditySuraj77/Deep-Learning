{
 "cells": [
  {
   "cell_type": "code",
   "execution_count": 34,
   "id": "961e940e",
   "metadata": {},
   "outputs": [],
   "source": [
    "import numpy as np\n",
    "import pandas as pd"
   ]
  },
  {
   "cell_type": "code",
   "execution_count": 35,
   "id": "6d60f603",
   "metadata": {},
   "outputs": [],
   "source": [
    "df = pd.read_csv('diabetes.csv')"
   ]
  },
  {
   "cell_type": "code",
   "execution_count": 36,
   "id": "bb687fb0",
   "metadata": {},
   "outputs": [
    {
     "data": {
      "text/html": [
       "<div>\n",
       "<style scoped>\n",
       "    .dataframe tbody tr th:only-of-type {\n",
       "        vertical-align: middle;\n",
       "    }\n",
       "\n",
       "    .dataframe tbody tr th {\n",
       "        vertical-align: top;\n",
       "    }\n",
       "\n",
       "    .dataframe thead th {\n",
       "        text-align: right;\n",
       "    }\n",
       "</style>\n",
       "<table border=\"1\" class=\"dataframe\">\n",
       "  <thead>\n",
       "    <tr style=\"text-align: right;\">\n",
       "      <th></th>\n",
       "      <th>Pregnancies</th>\n",
       "      <th>Glucose</th>\n",
       "      <th>BloodPressure</th>\n",
       "      <th>SkinThickness</th>\n",
       "      <th>Insulin</th>\n",
       "      <th>BMI</th>\n",
       "      <th>DiabetesPedigreeFunction</th>\n",
       "      <th>Age</th>\n",
       "      <th>Outcome</th>\n",
       "    </tr>\n",
       "  </thead>\n",
       "  <tbody>\n",
       "    <tr>\n",
       "      <th>0</th>\n",
       "      <td>6</td>\n",
       "      <td>148</td>\n",
       "      <td>72</td>\n",
       "      <td>35</td>\n",
       "      <td>0</td>\n",
       "      <td>33.6</td>\n",
       "      <td>0.627</td>\n",
       "      <td>50</td>\n",
       "      <td>1</td>\n",
       "    </tr>\n",
       "    <tr>\n",
       "      <th>1</th>\n",
       "      <td>1</td>\n",
       "      <td>85</td>\n",
       "      <td>66</td>\n",
       "      <td>29</td>\n",
       "      <td>0</td>\n",
       "      <td>26.6</td>\n",
       "      <td>0.351</td>\n",
       "      <td>31</td>\n",
       "      <td>0</td>\n",
       "    </tr>\n",
       "    <tr>\n",
       "      <th>2</th>\n",
       "      <td>8</td>\n",
       "      <td>183</td>\n",
       "      <td>64</td>\n",
       "      <td>0</td>\n",
       "      <td>0</td>\n",
       "      <td>23.3</td>\n",
       "      <td>0.672</td>\n",
       "      <td>32</td>\n",
       "      <td>1</td>\n",
       "    </tr>\n",
       "    <tr>\n",
       "      <th>3</th>\n",
       "      <td>1</td>\n",
       "      <td>89</td>\n",
       "      <td>66</td>\n",
       "      <td>23</td>\n",
       "      <td>94</td>\n",
       "      <td>28.1</td>\n",
       "      <td>0.167</td>\n",
       "      <td>21</td>\n",
       "      <td>0</td>\n",
       "    </tr>\n",
       "    <tr>\n",
       "      <th>4</th>\n",
       "      <td>0</td>\n",
       "      <td>137</td>\n",
       "      <td>40</td>\n",
       "      <td>35</td>\n",
       "      <td>168</td>\n",
       "      <td>43.1</td>\n",
       "      <td>2.288</td>\n",
       "      <td>33</td>\n",
       "      <td>1</td>\n",
       "    </tr>\n",
       "  </tbody>\n",
       "</table>\n",
       "</div>"
      ],
      "text/plain": [
       "   Pregnancies  Glucose  BloodPressure  SkinThickness  Insulin   BMI  \\\n",
       "0            6      148             72             35        0  33.6   \n",
       "1            1       85             66             29        0  26.6   \n",
       "2            8      183             64              0        0  23.3   \n",
       "3            1       89             66             23       94  28.1   \n",
       "4            0      137             40             35      168  43.1   \n",
       "\n",
       "   DiabetesPedigreeFunction  Age  Outcome  \n",
       "0                     0.627   50        1  \n",
       "1                     0.351   31        0  \n",
       "2                     0.672   32        1  \n",
       "3                     0.167   21        0  \n",
       "4                     2.288   33        1  "
      ]
     },
     "execution_count": 36,
     "metadata": {},
     "output_type": "execute_result"
    }
   ],
   "source": [
    "df.head()"
   ]
  },
  {
   "cell_type": "code",
   "execution_count": 37,
   "id": "21dbf8f2",
   "metadata": {},
   "outputs": [
    {
     "data": {
      "text/plain": [
       "Pregnancies                 0.221898\n",
       "Glucose                     0.466581\n",
       "BloodPressure               0.065068\n",
       "SkinThickness               0.074752\n",
       "Insulin                     0.130548\n",
       "BMI                         0.292695\n",
       "DiabetesPedigreeFunction    0.173844\n",
       "Age                         0.238356\n",
       "Outcome                     1.000000\n",
       "Name: Outcome, dtype: float64"
      ]
     },
     "execution_count": 37,
     "metadata": {},
     "output_type": "execute_result"
    }
   ],
   "source": [
    "df.corr()['Outcome']"
   ]
  },
  {
   "cell_type": "code",
   "execution_count": 38,
   "id": "868d8ccc",
   "metadata": {},
   "outputs": [
    {
     "data": {
      "text/plain": [
       "Pregnancies                 0\n",
       "Glucose                     0\n",
       "BloodPressure               0\n",
       "SkinThickness               0\n",
       "Insulin                     0\n",
       "BMI                         0\n",
       "DiabetesPedigreeFunction    0\n",
       "Age                         0\n",
       "Outcome                     0\n",
       "dtype: int64"
      ]
     },
     "execution_count": 38,
     "metadata": {},
     "output_type": "execute_result"
    }
   ],
   "source": [
    "df.isnull().sum()"
   ]
  },
  {
   "cell_type": "code",
   "execution_count": 39,
   "id": "db95a4be",
   "metadata": {},
   "outputs": [
    {
     "name": "stdout",
     "output_type": "stream",
     "text": [
      "<class 'pandas.core.frame.DataFrame'>\n",
      "RangeIndex: 768 entries, 0 to 767\n",
      "Data columns (total 9 columns):\n",
      " #   Column                    Non-Null Count  Dtype  \n",
      "---  ------                    --------------  -----  \n",
      " 0   Pregnancies               768 non-null    int64  \n",
      " 1   Glucose                   768 non-null    int64  \n",
      " 2   BloodPressure             768 non-null    int64  \n",
      " 3   SkinThickness             768 non-null    int64  \n",
      " 4   Insulin                   768 non-null    int64  \n",
      " 5   BMI                       768 non-null    float64\n",
      " 6   DiabetesPedigreeFunction  768 non-null    float64\n",
      " 7   Age                       768 non-null    int64  \n",
      " 8   Outcome                   768 non-null    int64  \n",
      "dtypes: float64(2), int64(7)\n",
      "memory usage: 54.1 KB\n"
     ]
    }
   ],
   "source": [
    "df.info()"
   ]
  },
  {
   "cell_type": "code",
   "execution_count": 40,
   "id": "27589856",
   "metadata": {},
   "outputs": [
    {
     "data": {
      "text/plain": [
       "0"
      ]
     },
     "execution_count": 40,
     "metadata": {},
     "output_type": "execute_result"
    }
   ],
   "source": [
    "df.duplicated().sum()"
   ]
  },
  {
   "cell_type": "code",
   "execution_count": 41,
   "id": "01ec8c60",
   "metadata": {},
   "outputs": [],
   "source": [
    "X = df.drop(columns='Outcome', axis=1)\n",
    "Y = df['Outcome']"
   ]
  },
  {
   "cell_type": "code",
   "execution_count": 42,
   "id": "f31d9530",
   "metadata": {},
   "outputs": [
    {
     "name": "stdout",
     "output_type": "stream",
     "text": [
      "     Pregnancies  Glucose  BloodPressure  SkinThickness  Insulin   BMI  \\\n",
      "0              6      148             72             35        0  33.6   \n",
      "1              1       85             66             29        0  26.6   \n",
      "2              8      183             64              0        0  23.3   \n",
      "3              1       89             66             23       94  28.1   \n",
      "4              0      137             40             35      168  43.1   \n",
      "..           ...      ...            ...            ...      ...   ...   \n",
      "763           10      101             76             48      180  32.9   \n",
      "764            2      122             70             27        0  36.8   \n",
      "765            5      121             72             23      112  26.2   \n",
      "766            1      126             60              0        0  30.1   \n",
      "767            1       93             70             31        0  30.4   \n",
      "\n",
      "     DiabetesPedigreeFunction  Age  \n",
      "0                       0.627   50  \n",
      "1                       0.351   31  \n",
      "2                       0.672   32  \n",
      "3                       0.167   21  \n",
      "4                       2.288   33  \n",
      "..                        ...  ...  \n",
      "763                     0.171   63  \n",
      "764                     0.340   27  \n",
      "765                     0.245   30  \n",
      "766                     0.349   47  \n",
      "767                     0.315   23  \n",
      "\n",
      "[768 rows x 8 columns]\n",
      "0      1\n",
      "1      0\n",
      "2      1\n",
      "3      0\n",
      "4      1\n",
      "      ..\n",
      "763    0\n",
      "764    0\n",
      "765    0\n",
      "766    1\n",
      "767    0\n",
      "Name: Outcome, Length: 768, dtype: int64\n"
     ]
    }
   ],
   "source": [
    "print(X)\n",
    "print(Y)"
   ]
  },
  {
   "cell_type": "code",
   "execution_count": 43,
   "id": "c06d0c7e",
   "metadata": {},
   "outputs": [],
   "source": [
    "from sklearn.preprocessing import StandardScaler"
   ]
  },
  {
   "cell_type": "code",
   "execution_count": 44,
   "id": "18842dca",
   "metadata": {},
   "outputs": [],
   "source": [
    "scaler = StandardScaler()"
   ]
  },
  {
   "cell_type": "code",
   "execution_count": 45,
   "id": "18dab87f",
   "metadata": {},
   "outputs": [],
   "source": [
    "X = scaler.fit_transform(X)"
   ]
  },
  {
   "cell_type": "code",
   "execution_count": 46,
   "id": "3637ed59",
   "metadata": {},
   "outputs": [
    {
     "name": "stdout",
     "output_type": "stream",
     "text": [
      "[[ 0.63994726  0.84832379  0.14964075 ...  0.20401277  0.46849198\n",
      "   1.4259954 ]\n",
      " [-0.84488505 -1.12339636 -0.16054575 ... -0.68442195 -0.36506078\n",
      "  -0.19067191]\n",
      " [ 1.23388019  1.94372388 -0.26394125 ... -1.10325546  0.60439732\n",
      "  -0.10558415]\n",
      " ...\n",
      " [ 0.3429808   0.00330087  0.14964075 ... -0.73518964 -0.68519336\n",
      "  -0.27575966]\n",
      " [-0.84488505  0.1597866  -0.47073225 ... -0.24020459 -0.37110101\n",
      "   1.17073215]\n",
      " [-0.84488505 -0.8730192   0.04624525 ... -0.20212881 -0.47378505\n",
      "  -0.87137393]]\n"
     ]
    }
   ],
   "source": [
    "print(X)"
   ]
  },
  {
   "cell_type": "code",
   "execution_count": 47,
   "id": "173d9007",
   "metadata": {},
   "outputs": [],
   "source": [
    "from sklearn.model_selection import train_test_split"
   ]
  },
  {
   "cell_type": "code",
   "execution_count": 48,
   "id": "db4a1873",
   "metadata": {},
   "outputs": [],
   "source": [
    "X_train,X_test,Y_train,Y_test = train_test_split(X,Y,test_size=0.1,random_state=1)"
   ]
  },
  {
   "cell_type": "code",
   "execution_count": 49,
   "id": "66a5bd68",
   "metadata": {},
   "outputs": [
    {
     "name": "stdout",
     "output_type": "stream",
     "text": [
      "(768, 8) (691, 8) (77, 8)\n"
     ]
    }
   ],
   "source": [
    "print(X.shape,X_train.shape,X_test.shape)"
   ]
  },
  {
   "cell_type": "code",
   "execution_count": 50,
   "id": "8c2ac337",
   "metadata": {},
   "outputs": [],
   "source": [
    "import tensorflow\n",
    "from tensorflow import keras\n",
    "from keras import Sequential\n",
    "from keras.layers import Dense"
   ]
  },
  {
   "cell_type": "code",
   "execution_count": 51,
   "id": "fd5fc722",
   "metadata": {},
   "outputs": [],
   "source": [
    "model = Sequential()"
   ]
  },
  {
   "cell_type": "code",
   "execution_count": 52,
   "id": "9d719659",
   "metadata": {},
   "outputs": [],
   "source": [
    "model.add(Dense(32,activation='relu',input_dim=8))\n",
    "model.add(Dense(1, activation='sigmoid'))\n",
    "\n",
    "model.compile(optimizer='Adam',loss='binary_crossentropy',metrics=['accuracy'])"
   ]
  },
  {
   "cell_type": "code",
   "execution_count": 53,
   "id": "99d6a0f2",
   "metadata": {},
   "outputs": [
    {
     "name": "stdout",
     "output_type": "stream",
     "text": [
      "Epoch 1/10\n",
      "22/22 [==============================] - 5s 9ms/step - loss: 0.6200 - accuracy: 0.6411\n",
      "Epoch 2/10\n",
      "22/22 [==============================] - 0s 5ms/step - loss: 0.5670 - accuracy: 0.7221\n",
      "Epoch 3/10\n",
      "22/22 [==============================] - 0s 5ms/step - loss: 0.5350 - accuracy: 0.7482\n",
      "Epoch 4/10\n",
      "22/22 [==============================] - 0s 6ms/step - loss: 0.5148 - accuracy: 0.7670\n",
      "Epoch 5/10\n",
      "22/22 [==============================] - 0s 5ms/step - loss: 0.4998 - accuracy: 0.7757\n",
      "Epoch 6/10\n",
      "22/22 [==============================] - 0s 5ms/step - loss: 0.4895 - accuracy: 0.7757\n",
      "Epoch 7/10\n",
      "22/22 [==============================] - 0s 5ms/step - loss: 0.4808 - accuracy: 0.7800\n",
      "Epoch 8/10\n",
      "22/22 [==============================] - 0s 5ms/step - loss: 0.4745 - accuracy: 0.7815\n",
      "Epoch 9/10\n",
      "22/22 [==============================] - 0s 5ms/step - loss: 0.4695 - accuracy: 0.7800\n",
      "Epoch 10/10\n",
      "22/22 [==============================] - 0s 6ms/step - loss: 0.4651 - accuracy: 0.7844\n"
     ]
    },
    {
     "data": {
      "text/plain": [
       "<keras.callbacks.History at 0x1e37f85e7d0>"
      ]
     },
     "execution_count": 53,
     "metadata": {},
     "output_type": "execute_result"
    }
   ],
   "source": [
    "model.fit(X_train,Y_train,batch_size=32,epochs=10)"
   ]
  },
  {
   "cell_type": "markdown",
   "id": "e77106d7",
   "metadata": {},
   "source": [
    "# Hyperparameter for Optimizers \n",
    "\n",
    "## THis process was give me best optimizer for our model"
   ]
  },
  {
   "cell_type": "code",
   "execution_count": 72,
   "id": "68eae011",
   "metadata": {},
   "outputs": [],
   "source": [
    "import keras_tuner as kt"
   ]
  },
  {
   "cell_type": "code",
   "execution_count": 73,
   "id": "471acb08",
   "metadata": {},
   "outputs": [],
   "source": [
    "def build_model(hp):\n",
    "    model = Sequential()\n",
    "    model.add(Dense(32,activation='relu',input_dim=8))\n",
    "    model.add(Dense(1,activation='sigmoid'))\n",
    "    \n",
    "    optimizer = hp.Choice('optimizer', values = ['SGD','RMSprop','Adam','Adagrad'])\n",
    "    \n",
    "    model.compile(optimizer=optimizer, loss='binary_crossentropy', metrics=['accuracy'])\n",
    "    return model"
   ]
  },
  {
   "cell_type": "code",
   "execution_count": 74,
   "id": "092e7574",
   "metadata": {},
   "outputs": [
    {
     "name": "stdout",
     "output_type": "stream",
     "text": [
      "INFO:tensorflow:Reloading Tuner from .\\untitled_project\\tuner0.json\n"
     ]
    }
   ],
   "source": [
    "tuner = kt.RandomSearch(build_model,objective='val_accuracy',max_trials=10)"
   ]
  },
  {
   "cell_type": "code",
   "execution_count": 75,
   "id": "de7ad51b",
   "metadata": {},
   "outputs": [
    {
     "name": "stdout",
     "output_type": "stream",
     "text": [
      "INFO:tensorflow:Oracle triggered exit\n"
     ]
    }
   ],
   "source": [
    "tuner.search(X_train,Y_train, epochs=10,validation_data=(X_test,Y_test))"
   ]
  },
  {
   "cell_type": "code",
   "execution_count": 76,
   "id": "76b0ca10",
   "metadata": {},
   "outputs": [
    {
     "data": {
      "text/plain": [
       "{'optimizer': 'RMSprop'}"
      ]
     },
     "execution_count": 76,
     "metadata": {},
     "output_type": "execute_result"
    }
   ],
   "source": [
    "tuner.get_best_hyperparameters()[0].values"
   ]
  },
  {
   "cell_type": "code",
   "execution_count": 77,
   "id": "c829c14f",
   "metadata": {},
   "outputs": [],
   "source": [
    "model = tuner.get_best_models(num_models=1)[0]"
   ]
  },
  {
   "cell_type": "code",
   "execution_count": 78,
   "id": "3e3e851e",
   "metadata": {},
   "outputs": [
    {
     "name": "stdout",
     "output_type": "stream",
     "text": [
      "Model: \"sequential\"\n",
      "_________________________________________________________________\n",
      " Layer (type)                Output Shape              Param #   \n",
      "=================================================================\n",
      " dense (Dense)               (None, 32)                288       \n",
      "                                                                 \n",
      " dense_1 (Dense)             (None, 1)                 33        \n",
      "                                                                 \n",
      "=================================================================\n",
      "Total params: 321\n",
      "Trainable params: 321\n",
      "Non-trainable params: 0\n",
      "_________________________________________________________________\n"
     ]
    }
   ],
   "source": [
    "model.summary()"
   ]
  },
  {
   "cell_type": "code",
   "execution_count": 79,
   "id": "e9e7c088",
   "metadata": {},
   "outputs": [
    {
     "name": "stdout",
     "output_type": "stream",
     "text": [
      "Epoch 7/100\n",
      "22/22 [==============================] - 2s 31ms/step - loss: 0.5101 - accuracy: 0.7598 - val_loss: 0.5043 - val_accuracy: 0.7403\n",
      "Epoch 8/100\n",
      "22/22 [==============================] - 0s 9ms/step - loss: 0.4977 - accuracy: 0.7685 - val_loss: 0.4959 - val_accuracy: 0.7403\n",
      "Epoch 9/100\n",
      "22/22 [==============================] - 0s 9ms/step - loss: 0.4878 - accuracy: 0.7742 - val_loss: 0.4907 - val_accuracy: 0.7403\n",
      "Epoch 10/100\n",
      "22/22 [==============================] - 0s 10ms/step - loss: 0.4798 - accuracy: 0.7873 - val_loss: 0.4859 - val_accuracy: 0.7792\n",
      "Epoch 11/100\n",
      "22/22 [==============================] - 0s 9ms/step - loss: 0.4742 - accuracy: 0.7887 - val_loss: 0.4823 - val_accuracy: 0.7532\n",
      "Epoch 12/100\n",
      "22/22 [==============================] - 0s 8ms/step - loss: 0.4701 - accuracy: 0.7873 - val_loss: 0.4803 - val_accuracy: 0.7532\n",
      "Epoch 13/100\n",
      "22/22 [==============================] - 0s 11ms/step - loss: 0.4663 - accuracy: 0.7887 - val_loss: 0.4784 - val_accuracy: 0.7662\n",
      "Epoch 14/100\n",
      "22/22 [==============================] - 0s 9ms/step - loss: 0.4639 - accuracy: 0.7887 - val_loss: 0.4776 - val_accuracy: 0.7662\n",
      "Epoch 15/100\n",
      "22/22 [==============================] - 0s 10ms/step - loss: 0.4617 - accuracy: 0.7873 - val_loss: 0.4771 - val_accuracy: 0.7662\n",
      "Epoch 16/100\n",
      "22/22 [==============================] - 0s 10ms/step - loss: 0.4598 - accuracy: 0.7844 - val_loss: 0.4762 - val_accuracy: 0.7662\n",
      "Epoch 17/100\n",
      "22/22 [==============================] - 0s 9ms/step - loss: 0.4580 - accuracy: 0.7931 - val_loss: 0.4755 - val_accuracy: 0.7662\n",
      "Epoch 18/100\n",
      "22/22 [==============================] - 0s 10ms/step - loss: 0.4567 - accuracy: 0.7902 - val_loss: 0.4753 - val_accuracy: 0.7662\n",
      "Epoch 19/100\n",
      "22/22 [==============================] - 0s 9ms/step - loss: 0.4551 - accuracy: 0.7873 - val_loss: 0.4742 - val_accuracy: 0.7792\n",
      "Epoch 20/100\n",
      "22/22 [==============================] - 0s 10ms/step - loss: 0.4543 - accuracy: 0.7945 - val_loss: 0.4733 - val_accuracy: 0.7792\n",
      "Epoch 21/100\n",
      "22/22 [==============================] - 0s 15ms/step - loss: 0.4531 - accuracy: 0.7931 - val_loss: 0.4735 - val_accuracy: 0.7792\n",
      "Epoch 22/100\n",
      "22/22 [==============================] - 0s 9ms/step - loss: 0.4521 - accuracy: 0.7887 - val_loss: 0.4719 - val_accuracy: 0.7792\n",
      "Epoch 23/100\n",
      "22/22 [==============================] - 0s 11ms/step - loss: 0.4513 - accuracy: 0.7988 - val_loss: 0.4715 - val_accuracy: 0.7792\n",
      "Epoch 24/100\n",
      "22/22 [==============================] - 0s 10ms/step - loss: 0.4502 - accuracy: 0.7902 - val_loss: 0.4702 - val_accuracy: 0.7792\n",
      "Epoch 25/100\n",
      "22/22 [==============================] - 0s 13ms/step - loss: 0.4496 - accuracy: 0.7931 - val_loss: 0.4702 - val_accuracy: 0.7792\n",
      "Epoch 26/100\n",
      "22/22 [==============================] - 0s 11ms/step - loss: 0.4488 - accuracy: 0.7988 - val_loss: 0.4697 - val_accuracy: 0.7792\n",
      "Epoch 27/100\n",
      "22/22 [==============================] - 0s 11ms/step - loss: 0.4476 - accuracy: 0.7931 - val_loss: 0.4691 - val_accuracy: 0.7792\n",
      "Epoch 28/100\n",
      "22/22 [==============================] - 0s 9ms/step - loss: 0.4473 - accuracy: 0.7945 - val_loss: 0.4686 - val_accuracy: 0.7792\n",
      "Epoch 29/100\n",
      "22/22 [==============================] - 0s 9ms/step - loss: 0.4466 - accuracy: 0.7916 - val_loss: 0.4686 - val_accuracy: 0.7662\n",
      "Epoch 30/100\n",
      "22/22 [==============================] - 0s 10ms/step - loss: 0.4460 - accuracy: 0.7945 - val_loss: 0.4679 - val_accuracy: 0.7662\n",
      "Epoch 31/100\n",
      "22/22 [==============================] - 0s 10ms/step - loss: 0.4451 - accuracy: 0.7959 - val_loss: 0.4673 - val_accuracy: 0.7792\n",
      "Epoch 32/100\n",
      "22/22 [==============================] - 0s 9ms/step - loss: 0.4446 - accuracy: 0.7931 - val_loss: 0.4662 - val_accuracy: 0.7662\n",
      "Epoch 33/100\n",
      "22/22 [==============================] - 0s 10ms/step - loss: 0.4440 - accuracy: 0.7916 - val_loss: 0.4655 - val_accuracy: 0.7662\n",
      "Epoch 34/100\n",
      "22/22 [==============================] - 0s 9ms/step - loss: 0.4434 - accuracy: 0.7945 - val_loss: 0.4655 - val_accuracy: 0.7662\n",
      "Epoch 35/100\n",
      "22/22 [==============================] - 0s 10ms/step - loss: 0.4428 - accuracy: 0.7945 - val_loss: 0.4650 - val_accuracy: 0.7532\n",
      "Epoch 36/100\n",
      "22/22 [==============================] - 0s 9ms/step - loss: 0.4425 - accuracy: 0.7945 - val_loss: 0.4649 - val_accuracy: 0.7532\n",
      "Epoch 37/100\n",
      "22/22 [==============================] - 0s 10ms/step - loss: 0.4421 - accuracy: 0.7959 - val_loss: 0.4648 - val_accuracy: 0.7532\n",
      "Epoch 38/100\n",
      "22/22 [==============================] - 0s 9ms/step - loss: 0.4413 - accuracy: 0.7945 - val_loss: 0.4643 - val_accuracy: 0.7532\n",
      "Epoch 39/100\n",
      "22/22 [==============================] - 0s 10ms/step - loss: 0.4406 - accuracy: 0.7974 - val_loss: 0.4641 - val_accuracy: 0.7662\n",
      "Epoch 40/100\n",
      "22/22 [==============================] - 0s 9ms/step - loss: 0.4405 - accuracy: 0.7959 - val_loss: 0.4633 - val_accuracy: 0.7532\n",
      "Epoch 41/100\n",
      "22/22 [==============================] - 0s 10ms/step - loss: 0.4400 - accuracy: 0.7959 - val_loss: 0.4628 - val_accuracy: 0.7532\n",
      "Epoch 42/100\n",
      "22/22 [==============================] - 0s 10ms/step - loss: 0.4390 - accuracy: 0.7945 - val_loss: 0.4624 - val_accuracy: 0.7532\n",
      "Epoch 43/100\n",
      "22/22 [==============================] - 0s 12ms/step - loss: 0.4390 - accuracy: 0.7974 - val_loss: 0.4623 - val_accuracy: 0.7662\n",
      "Epoch 44/100\n",
      "22/22 [==============================] - 0s 9ms/step - loss: 0.4382 - accuracy: 0.7945 - val_loss: 0.4611 - val_accuracy: 0.7532\n",
      "Epoch 45/100\n",
      "22/22 [==============================] - 0s 10ms/step - loss: 0.4382 - accuracy: 0.7974 - val_loss: 0.4610 - val_accuracy: 0.7662\n",
      "Epoch 46/100\n",
      "22/22 [==============================] - 0s 10ms/step - loss: 0.4375 - accuracy: 0.7974 - val_loss: 0.4599 - val_accuracy: 0.7662\n",
      "Epoch 47/100\n",
      "22/22 [==============================] - 0s 7ms/step - loss: 0.4372 - accuracy: 0.7931 - val_loss: 0.4593 - val_accuracy: 0.7662\n",
      "Epoch 48/100\n",
      "22/22 [==============================] - 0s 10ms/step - loss: 0.4371 - accuracy: 0.7959 - val_loss: 0.4596 - val_accuracy: 0.7662\n",
      "Epoch 49/100\n",
      "22/22 [==============================] - 0s 9ms/step - loss: 0.4363 - accuracy: 0.8017 - val_loss: 0.4588 - val_accuracy: 0.7662\n",
      "Epoch 50/100\n",
      "22/22 [==============================] - 0s 9ms/step - loss: 0.4359 - accuracy: 0.7974 - val_loss: 0.4595 - val_accuracy: 0.7662\n",
      "Epoch 51/100\n",
      "22/22 [==============================] - 0s 10ms/step - loss: 0.4353 - accuracy: 0.7945 - val_loss: 0.4601 - val_accuracy: 0.7662\n",
      "Epoch 52/100\n",
      "22/22 [==============================] - 0s 17ms/step - loss: 0.4352 - accuracy: 0.7916 - val_loss: 0.4587 - val_accuracy: 0.7662\n",
      "Epoch 53/100\n",
      "22/22 [==============================] - 0s 9ms/step - loss: 0.4347 - accuracy: 0.7945 - val_loss: 0.4592 - val_accuracy: 0.7662\n",
      "Epoch 54/100\n",
      "22/22 [==============================] - 0s 11ms/step - loss: 0.4342 - accuracy: 0.7988 - val_loss: 0.4592 - val_accuracy: 0.7662\n",
      "Epoch 55/100\n",
      "22/22 [==============================] - 0s 9ms/step - loss: 0.4336 - accuracy: 0.7931 - val_loss: 0.4576 - val_accuracy: 0.7662\n",
      "Epoch 56/100\n",
      "22/22 [==============================] - 0s 9ms/step - loss: 0.4332 - accuracy: 0.7974 - val_loss: 0.4575 - val_accuracy: 0.7662\n",
      "Epoch 57/100\n",
      "22/22 [==============================] - 0s 10ms/step - loss: 0.4330 - accuracy: 0.7945 - val_loss: 0.4579 - val_accuracy: 0.7662\n",
      "Epoch 58/100\n",
      "22/22 [==============================] - 0s 9ms/step - loss: 0.4324 - accuracy: 0.7988 - val_loss: 0.4570 - val_accuracy: 0.7662\n",
      "Epoch 59/100\n",
      "22/22 [==============================] - 0s 8ms/step - loss: 0.4322 - accuracy: 0.7945 - val_loss: 0.4562 - val_accuracy: 0.7662\n",
      "Epoch 60/100\n",
      "22/22 [==============================] - 0s 9ms/step - loss: 0.4318 - accuracy: 0.7974 - val_loss: 0.4557 - val_accuracy: 0.7662\n",
      "Epoch 61/100\n",
      "22/22 [==============================] - 0s 10ms/step - loss: 0.4315 - accuracy: 0.7988 - val_loss: 0.4552 - val_accuracy: 0.7662\n",
      "Epoch 62/100\n",
      "22/22 [==============================] - 0s 10ms/step - loss: 0.4311 - accuracy: 0.7902 - val_loss: 0.4552 - val_accuracy: 0.7662\n",
      "Epoch 63/100\n",
      "22/22 [==============================] - 0s 8ms/step - loss: 0.4307 - accuracy: 0.7931 - val_loss: 0.4552 - val_accuracy: 0.7662\n",
      "Epoch 64/100\n"
     ]
    },
    {
     "name": "stdout",
     "output_type": "stream",
     "text": [
      "22/22 [==============================] - 0s 11ms/step - loss: 0.4304 - accuracy: 0.7974 - val_loss: 0.4547 - val_accuracy: 0.7662\n",
      "Epoch 65/100\n",
      "22/22 [==============================] - 0s 7ms/step - loss: 0.4300 - accuracy: 0.7959 - val_loss: 0.4546 - val_accuracy: 0.7662\n",
      "Epoch 66/100\n",
      "22/22 [==============================] - 0s 8ms/step - loss: 0.4295 - accuracy: 0.8003 - val_loss: 0.4532 - val_accuracy: 0.7662\n",
      "Epoch 67/100\n",
      "22/22 [==============================] - 0s 7ms/step - loss: 0.4294 - accuracy: 0.7959 - val_loss: 0.4534 - val_accuracy: 0.7662\n",
      "Epoch 68/100\n",
      "22/22 [==============================] - 0s 8ms/step - loss: 0.4286 - accuracy: 0.8017 - val_loss: 0.4525 - val_accuracy: 0.7662\n",
      "Epoch 69/100\n",
      "22/22 [==============================] - 0s 8ms/step - loss: 0.4284 - accuracy: 0.7974 - val_loss: 0.4528 - val_accuracy: 0.7662\n",
      "Epoch 70/100\n",
      "22/22 [==============================] - 0s 8ms/step - loss: 0.4280 - accuracy: 0.7974 - val_loss: 0.4527 - val_accuracy: 0.7662\n",
      "Epoch 71/100\n",
      "22/22 [==============================] - 0s 7ms/step - loss: 0.4280 - accuracy: 0.7974 - val_loss: 0.4521 - val_accuracy: 0.7662\n",
      "Epoch 72/100\n",
      "22/22 [==============================] - 0s 8ms/step - loss: 0.4274 - accuracy: 0.7974 - val_loss: 0.4521 - val_accuracy: 0.7662\n",
      "Epoch 73/100\n",
      "22/22 [==============================] - 0s 8ms/step - loss: 0.4273 - accuracy: 0.8017 - val_loss: 0.4518 - val_accuracy: 0.7662\n",
      "Epoch 74/100\n",
      "22/22 [==============================] - 0s 9ms/step - loss: 0.4271 - accuracy: 0.7988 - val_loss: 0.4524 - val_accuracy: 0.7662\n",
      "Epoch 75/100\n",
      "22/22 [==============================] - 0s 7ms/step - loss: 0.4268 - accuracy: 0.7988 - val_loss: 0.4521 - val_accuracy: 0.7662\n",
      "Epoch 76/100\n",
      "22/22 [==============================] - 0s 8ms/step - loss: 0.4265 - accuracy: 0.7959 - val_loss: 0.4520 - val_accuracy: 0.7662\n",
      "Epoch 77/100\n",
      "22/22 [==============================] - 0s 9ms/step - loss: 0.4263 - accuracy: 0.7974 - val_loss: 0.4518 - val_accuracy: 0.7662\n",
      "Epoch 78/100\n",
      "22/22 [==============================] - 0s 7ms/step - loss: 0.4258 - accuracy: 0.7945 - val_loss: 0.4509 - val_accuracy: 0.7662\n",
      "Epoch 79/100\n",
      "22/22 [==============================] - 0s 9ms/step - loss: 0.4258 - accuracy: 0.8003 - val_loss: 0.4510 - val_accuracy: 0.7662\n",
      "Epoch 80/100\n",
      "22/22 [==============================] - 0s 8ms/step - loss: 0.4254 - accuracy: 0.7945 - val_loss: 0.4513 - val_accuracy: 0.7662\n",
      "Epoch 81/100\n",
      "22/22 [==============================] - 0s 7ms/step - loss: 0.4249 - accuracy: 0.7974 - val_loss: 0.4511 - val_accuracy: 0.7662\n",
      "Epoch 82/100\n",
      "22/22 [==============================] - 0s 8ms/step - loss: 0.4249 - accuracy: 0.7959 - val_loss: 0.4510 - val_accuracy: 0.7792\n",
      "Epoch 83/100\n",
      "22/22 [==============================] - 0s 8ms/step - loss: 0.4244 - accuracy: 0.7974 - val_loss: 0.4506 - val_accuracy: 0.7792\n",
      "Epoch 84/100\n",
      "22/22 [==============================] - 0s 8ms/step - loss: 0.4243 - accuracy: 0.8003 - val_loss: 0.4502 - val_accuracy: 0.7792\n",
      "Epoch 85/100\n",
      "22/22 [==============================] - 0s 8ms/step - loss: 0.4236 - accuracy: 0.8003 - val_loss: 0.4506 - val_accuracy: 0.7792\n",
      "Epoch 86/100\n",
      "22/22 [==============================] - 0s 8ms/step - loss: 0.4234 - accuracy: 0.7974 - val_loss: 0.4499 - val_accuracy: 0.7792\n",
      "Epoch 87/100\n",
      "22/22 [==============================] - 0s 10ms/step - loss: 0.4233 - accuracy: 0.7988 - val_loss: 0.4502 - val_accuracy: 0.7792\n",
      "Epoch 88/100\n",
      "22/22 [==============================] - 0s 7ms/step - loss: 0.4230 - accuracy: 0.7974 - val_loss: 0.4490 - val_accuracy: 0.7792\n",
      "Epoch 89/100\n",
      "22/22 [==============================] - 0s 8ms/step - loss: 0.4230 - accuracy: 0.7959 - val_loss: 0.4491 - val_accuracy: 0.7792\n",
      "Epoch 90/100\n",
      "22/22 [==============================] - 0s 10ms/step - loss: 0.4221 - accuracy: 0.8017 - val_loss: 0.4488 - val_accuracy: 0.7792\n",
      "Epoch 91/100\n",
      "22/22 [==============================] - 0s 8ms/step - loss: 0.4222 - accuracy: 0.7959 - val_loss: 0.4489 - val_accuracy: 0.7792\n",
      "Epoch 92/100\n",
      "22/22 [==============================] - 0s 8ms/step - loss: 0.4220 - accuracy: 0.7959 - val_loss: 0.4480 - val_accuracy: 0.7662\n",
      "Epoch 93/100\n",
      "22/22 [==============================] - 0s 8ms/step - loss: 0.4217 - accuracy: 0.7988 - val_loss: 0.4483 - val_accuracy: 0.7792\n",
      "Epoch 94/100\n",
      "22/22 [==============================] - 0s 8ms/step - loss: 0.4212 - accuracy: 0.7959 - val_loss: 0.4477 - val_accuracy: 0.7792\n",
      "Epoch 95/100\n",
      "22/22 [==============================] - 0s 9ms/step - loss: 0.4211 - accuracy: 0.7959 - val_loss: 0.4478 - val_accuracy: 0.7792\n",
      "Epoch 96/100\n",
      "22/22 [==============================] - 0s 7ms/step - loss: 0.4209 - accuracy: 0.7988 - val_loss: 0.4479 - val_accuracy: 0.7662\n",
      "Epoch 97/100\n",
      "22/22 [==============================] - 0s 9ms/step - loss: 0.4208 - accuracy: 0.7974 - val_loss: 0.4474 - val_accuracy: 0.7662\n",
      "Epoch 98/100\n",
      "22/22 [==============================] - 0s 8ms/step - loss: 0.4205 - accuracy: 0.7974 - val_loss: 0.4479 - val_accuracy: 0.7662\n",
      "Epoch 99/100\n",
      "22/22 [==============================] - 0s 7ms/step - loss: 0.4206 - accuracy: 0.8032 - val_loss: 0.4481 - val_accuracy: 0.7792\n",
      "Epoch 100/100\n",
      "22/22 [==============================] - 0s 8ms/step - loss: 0.4197 - accuracy: 0.7988 - val_loss: 0.4483 - val_accuracy: 0.7792\n"
     ]
    },
    {
     "data": {
      "text/plain": [
       "<keras.callbacks.History at 0x1e304736c10>"
      ]
     },
     "execution_count": 79,
     "metadata": {},
     "output_type": "execute_result"
    }
   ],
   "source": [
    "model.fit(X_train,Y_train,batch_size=32, epochs=100,initial_epoch=6,validation_data=(X_test,Y_test))"
   ]
  },
  {
   "cell_type": "code",
   "execution_count": null,
   "id": "337d3a98",
   "metadata": {},
   "outputs": [],
   "source": []
  }
 ],
 "metadata": {
  "kernelspec": {
   "display_name": "Python 3 (ipykernel)",
   "language": "python",
   "name": "python3"
  },
  "language_info": {
   "codemirror_mode": {
    "name": "ipython",
    "version": 3
   },
   "file_extension": ".py",
   "mimetype": "text/x-python",
   "name": "python",
   "nbconvert_exporter": "python",
   "pygments_lexer": "ipython3",
   "version": "3.11.2"
  }
 },
 "nbformat": 4,
 "nbformat_minor": 5
}
