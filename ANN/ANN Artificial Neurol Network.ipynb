{
 "cells": [
  {
   "cell_type": "code",
   "execution_count": 2,
   "id": "3a4f22a7",
   "metadata": {},
   "outputs": [],
   "source": [
    "import tensorflow as tf\n",
    "import pandas as pd\n",
    "import numpy as np"
   ]
  },
  {
   "cell_type": "code",
   "execution_count": 3,
   "id": "bc8a2f4b",
   "metadata": {},
   "outputs": [],
   "source": [
    "data = pd.read_csv('Placement.csv')"
   ]
  },
  {
   "cell_type": "code",
   "execution_count": 5,
   "id": "b9524026",
   "metadata": {},
   "outputs": [
    {
     "data": {
      "text/html": [
       "<div>\n",
       "<style scoped>\n",
       "    .dataframe tbody tr th:only-of-type {\n",
       "        vertical-align: middle;\n",
       "    }\n",
       "\n",
       "    .dataframe tbody tr th {\n",
       "        vertical-align: top;\n",
       "    }\n",
       "\n",
       "    .dataframe thead th {\n",
       "        text-align: right;\n",
       "    }\n",
       "</style>\n",
       "<table border=\"1\" class=\"dataframe\">\n",
       "  <thead>\n",
       "    <tr style=\"text-align: right;\">\n",
       "      <th></th>\n",
       "      <th>cgpa</th>\n",
       "      <th>resume_score</th>\n",
       "      <th>placed</th>\n",
       "    </tr>\n",
       "  </thead>\n",
       "  <tbody>\n",
       "    <tr>\n",
       "      <th>0</th>\n",
       "      <td>8.14</td>\n",
       "      <td>6.52</td>\n",
       "      <td>1</td>\n",
       "    </tr>\n",
       "    <tr>\n",
       "      <th>1</th>\n",
       "      <td>6.17</td>\n",
       "      <td>5.17</td>\n",
       "      <td>0</td>\n",
       "    </tr>\n",
       "    <tr>\n",
       "      <th>2</th>\n",
       "      <td>8.27</td>\n",
       "      <td>8.86</td>\n",
       "      <td>1</td>\n",
       "    </tr>\n",
       "    <tr>\n",
       "      <th>3</th>\n",
       "      <td>6.88</td>\n",
       "      <td>7.27</td>\n",
       "      <td>1</td>\n",
       "    </tr>\n",
       "    <tr>\n",
       "      <th>4</th>\n",
       "      <td>7.52</td>\n",
       "      <td>7.30</td>\n",
       "      <td>1</td>\n",
       "    </tr>\n",
       "  </tbody>\n",
       "</table>\n",
       "</div>"
      ],
      "text/plain": [
       "   cgpa  resume_score  placed\n",
       "0  8.14          6.52       1\n",
       "1  6.17          5.17       0\n",
       "2  8.27          8.86       1\n",
       "3  6.88          7.27       1\n",
       "4  7.52          7.30       1"
      ]
     },
     "execution_count": 5,
     "metadata": {},
     "output_type": "execute_result"
    }
   ],
   "source": [
    "data.head()"
   ]
  },
  {
   "cell_type": "code",
   "execution_count": 6,
   "id": "ae0d6b61",
   "metadata": {},
   "outputs": [
    {
     "data": {
      "text/plain": [
       "cgpa            0\n",
       "resume_score    0\n",
       "placed          0\n",
       "dtype: int64"
      ]
     },
     "execution_count": 6,
     "metadata": {},
     "output_type": "execute_result"
    }
   ],
   "source": [
    "data.isnull().sum()"
   ]
  },
  {
   "cell_type": "code",
   "execution_count": 7,
   "id": "05e25589",
   "metadata": {},
   "outputs": [
    {
     "data": {
      "text/plain": [
       "(100, 3)"
      ]
     },
     "execution_count": 7,
     "metadata": {},
     "output_type": "execute_result"
    }
   ],
   "source": [
    "data.shape"
   ]
  },
  {
   "cell_type": "code",
   "execution_count": 8,
   "id": "da69a07c",
   "metadata": {},
   "outputs": [],
   "source": [
    "X = data.drop('placed',axis=1)\n",
    "Y = data['placed']"
   ]
  },
  {
   "cell_type": "code",
   "execution_count": 9,
   "id": "52f51a90",
   "metadata": {},
   "outputs": [],
   "source": [
    "from sklearn.preprocessing import StandardScaler"
   ]
  },
  {
   "cell_type": "code",
   "execution_count": 36,
   "id": "19f224ae",
   "metadata": {},
   "outputs": [],
   "source": [
    "scaler = StandardScaler()"
   ]
  },
  {
   "cell_type": "code",
   "execution_count": 37,
   "id": "6cf8c95b",
   "metadata": {},
   "outputs": [],
   "source": [
    "X_train_scale = scaler.fit_transform(X_train)\n",
    "X_test_scale = scaler.fit_transform(X_test)"
   ]
  },
  {
   "cell_type": "code",
   "execution_count": 39,
   "id": "a9b93251",
   "metadata": {},
   "outputs": [
    {
     "data": {
      "text/plain": [
       "array([[-0.87834469, -1.099206  ],\n",
       "       [ 0.37559244,  0.19191768],\n",
       "       [-1.03729447, -0.4892263 ],\n",
       "       [ 1.32046055,  0.78156472],\n",
       "       [-0.95781958, -1.4245285 ],\n",
       "       [ 0.51688113,  0.34441261],\n",
       "       [ 2.17702324, -1.48552647],\n",
       "       [-0.93132795, -0.04190786],\n",
       "       [-0.74588655,  0.04958909],\n",
       "       [-0.89600578,  0.05975542],\n",
       "       [ 0.00470962, -0.0927395 ],\n",
       "       [ 1.002561  , -0.90604576],\n",
       "       [-0.58693677, -0.49939263],\n",
       "       [-0.03061255, -0.05207419],\n",
       "       [ 0.99373046,  2.13368637],\n",
       "       [ 1.717835  , -1.04837435],\n",
       "       [ 1.16151078, -1.66852037],\n",
       "       [ 1.14384969,  0.8120637 ],\n",
       "       [ 0.66700036,  0.1614187 ],\n",
       "       [ 0.6140171 ,  1.03572292],\n",
       "       [-1.31987185, -0.42822834],\n",
       "       [ 0.1018456 ,  1.19838417],\n",
       "       [-0.18956233, -1.52619178],\n",
       "       [ 0.46389787,  0.72056675],\n",
       "       [ 2.09754835,  0.43590956],\n",
       "       [ 1.62069902, -0.78404982],\n",
       "       [ 1.24981621,  1.07638824],\n",
       "       [-0.79003926,  1.81853019],\n",
       "       [ 1.002561  ,  0.52740651],\n",
       "       [ 0.97606937,  0.69006777],\n",
       "       [-1.30221076, -0.2350681 ],\n",
       "       [ 1.70900445,  0.232583  ],\n",
       "       [-0.33085102, -0.68238654],\n",
       "       [-0.53395351, -0.59088959],\n",
       "       [-1.25805805, -0.82471513],\n",
       "       [-0.1630707 ,  1.16788519],\n",
       "       [-0.71939492, -0.24523443],\n",
       "       [ 0.72881416, -1.30253256],\n",
       "       [-1.04612501,  1.49320769],\n",
       "       [ 1.38227436, -1.90234592],\n",
       "       [ 1.13501915, -0.79421615],\n",
       "       [-0.04827364,  0.31391362],\n",
       "       [ 0.77296688,  1.77786488],\n",
       "       [-0.82536143,  1.78803121],\n",
       "       [-0.54278405, -0.25540076],\n",
       "       [-1.01080284, -1.32286522],\n",
       "       [-1.40817728,  0.13091972],\n",
       "       [ 0.8789334 ,  1.14755253],\n",
       "       [ 1.08203589,  0.60873714],\n",
       "       [-0.83419198,  0.53757284],\n",
       "       [-0.71056437, -0.54005795],\n",
       "       [-0.74588655, -0.35706404],\n",
       "       [-0.89600578,  0.22241667],\n",
       "       [ 1.1261886 ,  1.00522394],\n",
       "       [ 1.13501915, -0.22490177],\n",
       "       [-0.30435939, -0.15373747],\n",
       "       [-0.97548067, -1.78034998],\n",
       "       [-0.81653089,  0.53757284],\n",
       "       [-0.03944309,  1.01539027],\n",
       "       [-0.25137613,  0.83239636],\n",
       "       [-1.46999108,  0.32407995],\n",
       "       [ 1.54122413, -1.84134795],\n",
       "       [-0.41032591,  0.4155769 ],\n",
       "       [-1.23156642, -0.39772935],\n",
       "       [ 1.0643748 , -1.3533642 ],\n",
       "       [-0.52512297,  0.25291565],\n",
       "       [-0.52512297,  0.99505761],\n",
       "       [-0.9401585 ,  1.01539027],\n",
       "       [ 0.94957774, -2.04467452],\n",
       "       [-0.86951415,  0.61890347],\n",
       "       [ 1.5147325 ,  0.6290698 ],\n",
       "       [-1.03729447, -0.47905998],\n",
       "       [ 1.86795423,  1.26954847],\n",
       "       [-0.65758111,  0.34441261],\n",
       "       [-0.6752422 , -1.8210153 ],\n",
       "       [-0.91366687,  0.54773917],\n",
       "       [-0.35734265,  0.69006777],\n",
       "       [ 1.17917186,  1.9303598 ],\n",
       "       [-0.78120872,  0.17158503],\n",
       "       [-1.16092207, -1.94301123],\n",
       "       [ 1.18800241, -0.67222021],\n",
       "       [-1.23156642,  0.40541058],\n",
       "       [-0.66641166, -1.22120193],\n",
       "       [ 0.87010285, -0.91621209],\n",
       "       [-1.0019723 ,  1.11705355],\n",
       "       [-0.9401585 , -0.32656505],\n",
       "       [ 0.35793135,  1.2797148 ],\n",
       "       [ 0.50805058, -0.72305185],\n",
       "       [-1.32870239, -0.79421615],\n",
       "       [-0.3485121 ,  0.43590956]])"
      ]
     },
     "execution_count": 39,
     "metadata": {},
     "output_type": "execute_result"
    }
   ],
   "source": [
    "X_train_scale"
   ]
  },
  {
   "cell_type": "code",
   "execution_count": null,
   "id": "f859eb18",
   "metadata": {},
   "outputs": [],
   "source": []
  },
  {
   "cell_type": "code",
   "execution_count": null,
   "id": "da94827d",
   "metadata": {},
   "outputs": [],
   "source": []
  },
  {
   "cell_type": "code",
   "execution_count": 40,
   "id": "dda6b92d",
   "metadata": {},
   "outputs": [],
   "source": [
    "from sklearn.model_selection import train_test_split"
   ]
  },
  {
   "cell_type": "code",
   "execution_count": 41,
   "id": "2f7e9d93",
   "metadata": {},
   "outputs": [],
   "source": [
    "X_train,X_test,Y_train,Y_test = train_test_split(X,Y,test_size=0.1,random_state=42)"
   ]
  },
  {
   "cell_type": "code",
   "execution_count": 42,
   "id": "19935ab9",
   "metadata": {},
   "outputs": [
    {
     "name": "stdout",
     "output_type": "stream",
     "text": [
      "(100, 2) (90, 2) (10, 2)\n"
     ]
    }
   ],
   "source": [
    "print(X.shape,X_train.shape,X_test.shape)"
   ]
  },
  {
   "cell_type": "code",
   "execution_count": 119,
   "id": "eb3d115d",
   "metadata": {},
   "outputs": [],
   "source": [
    "model = tf.keras.models.Sequential([\n",
    "    tf.keras.layers.Dense(5,activation='relu'),\n",
    "    tf.keras.layers.Dense(5,activation='relu'),\n",
    "    tf.keras.layers.Dense(1,activation='relu')\n",
    "])"
   ]
  },
  {
   "cell_type": "code",
   "execution_count": 120,
   "id": "bff42284",
   "metadata": {},
   "outputs": [],
   "source": [
    "model.compile(loss='mean_squared_error',optimizer='adam')"
   ]
  },
  {
   "cell_type": "code",
   "execution_count": 121,
   "id": "ba5d16ca",
   "metadata": {},
   "outputs": [
    {
     "name": "stdout",
     "output_type": "stream",
     "text": [
      "Epoch 1/5\n",
      "3/3 [==============================] - 2s 11ms/step - loss: 0.5492\n",
      "Epoch 2/5\n",
      "3/3 [==============================] - 0s 13ms/step - loss: 0.5332\n",
      "Epoch 3/5\n",
      "3/3 [==============================] - 0s 11ms/step - loss: 0.5167\n",
      "Epoch 4/5\n",
      "3/3 [==============================] - 0s 10ms/step - loss: 0.5018\n",
      "Epoch 5/5\n",
      "3/3 [==============================] - 0s 21ms/step - loss: 0.4853\n"
     ]
    },
    {
     "data": {
      "text/plain": [
       "<keras.callbacks.History at 0x246984aa4d0>"
      ]
     },
     "execution_count": 121,
     "metadata": {},
     "output_type": "execute_result"
    }
   ],
   "source": [
    "model.fit(X_train_scale,Y_train,epochs=5)"
   ]
  },
  {
   "cell_type": "code",
   "execution_count": 135,
   "id": "acf40be2",
   "metadata": {},
   "outputs": [
    {
     "name": "stdout",
     "output_type": "stream",
     "text": [
      "1/1 [==============================] - 0s 55ms/step\n"
     ]
    }
   ],
   "source": [
    "y_prob = model.predict(X_test)"
   ]
  },
  {
   "cell_type": "code",
   "execution_count": 138,
   "id": "49dc000e",
   "metadata": {},
   "outputs": [],
   "source": [
    "y_pred = y_prob.argmax(axis=1)"
   ]
  },
  {
   "cell_type": "code",
   "execution_count": null,
   "id": "06f24215",
   "metadata": {},
   "outputs": [],
   "source": []
  },
  {
   "cell_type": "code",
   "execution_count": null,
   "id": "38256d7a",
   "metadata": {
    "scrolled": false
   },
   "outputs": [],
   "source": []
  },
  {
   "cell_type": "code",
   "execution_count": null,
   "id": "36ce1bd9",
   "metadata": {},
   "outputs": [],
   "source": []
  }
 ],
 "metadata": {
  "kernelspec": {
   "display_name": "Python 3 (ipykernel)",
   "language": "python",
   "name": "python3"
  },
  "language_info": {
   "codemirror_mode": {
    "name": "ipython",
    "version": 3
   },
   "file_extension": ".py",
   "mimetype": "text/x-python",
   "name": "python",
   "nbconvert_exporter": "python",
   "pygments_lexer": "ipython3",
   "version": "3.11.2"
  }
 },
 "nbformat": 4,
 "nbformat_minor": 5
}
