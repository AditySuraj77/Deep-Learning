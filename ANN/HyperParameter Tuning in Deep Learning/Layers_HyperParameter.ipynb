{
 "cells": [
  {
   "cell_type": "code",
   "execution_count": 1,
   "id": "961e940e",
   "metadata": {},
   "outputs": [],
   "source": [
    "import numpy as np\n",
    "import pandas as pd"
   ]
  },
  {
   "cell_type": "code",
   "execution_count": 2,
   "id": "6d60f603",
   "metadata": {},
   "outputs": [],
   "source": [
    "df = pd.read_csv('diabetes.csv')"
   ]
  },
  {
   "cell_type": "code",
   "execution_count": 3,
   "id": "bb687fb0",
   "metadata": {},
   "outputs": [
    {
     "data": {
      "text/html": [
       "<div>\n",
       "<style scoped>\n",
       "    .dataframe tbody tr th:only-of-type {\n",
       "        vertical-align: middle;\n",
       "    }\n",
       "\n",
       "    .dataframe tbody tr th {\n",
       "        vertical-align: top;\n",
       "    }\n",
       "\n",
       "    .dataframe thead th {\n",
       "        text-align: right;\n",
       "    }\n",
       "</style>\n",
       "<table border=\"1\" class=\"dataframe\">\n",
       "  <thead>\n",
       "    <tr style=\"text-align: right;\">\n",
       "      <th></th>\n",
       "      <th>Pregnancies</th>\n",
       "      <th>Glucose</th>\n",
       "      <th>BloodPressure</th>\n",
       "      <th>SkinThickness</th>\n",
       "      <th>Insulin</th>\n",
       "      <th>BMI</th>\n",
       "      <th>DiabetesPedigreeFunction</th>\n",
       "      <th>Age</th>\n",
       "      <th>Outcome</th>\n",
       "    </tr>\n",
       "  </thead>\n",
       "  <tbody>\n",
       "    <tr>\n",
       "      <th>0</th>\n",
       "      <td>6</td>\n",
       "      <td>148</td>\n",
       "      <td>72</td>\n",
       "      <td>35</td>\n",
       "      <td>0</td>\n",
       "      <td>33.6</td>\n",
       "      <td>0.627</td>\n",
       "      <td>50</td>\n",
       "      <td>1</td>\n",
       "    </tr>\n",
       "    <tr>\n",
       "      <th>1</th>\n",
       "      <td>1</td>\n",
       "      <td>85</td>\n",
       "      <td>66</td>\n",
       "      <td>29</td>\n",
       "      <td>0</td>\n",
       "      <td>26.6</td>\n",
       "      <td>0.351</td>\n",
       "      <td>31</td>\n",
       "      <td>0</td>\n",
       "    </tr>\n",
       "    <tr>\n",
       "      <th>2</th>\n",
       "      <td>8</td>\n",
       "      <td>183</td>\n",
       "      <td>64</td>\n",
       "      <td>0</td>\n",
       "      <td>0</td>\n",
       "      <td>23.3</td>\n",
       "      <td>0.672</td>\n",
       "      <td>32</td>\n",
       "      <td>1</td>\n",
       "    </tr>\n",
       "    <tr>\n",
       "      <th>3</th>\n",
       "      <td>1</td>\n",
       "      <td>89</td>\n",
       "      <td>66</td>\n",
       "      <td>23</td>\n",
       "      <td>94</td>\n",
       "      <td>28.1</td>\n",
       "      <td>0.167</td>\n",
       "      <td>21</td>\n",
       "      <td>0</td>\n",
       "    </tr>\n",
       "    <tr>\n",
       "      <th>4</th>\n",
       "      <td>0</td>\n",
       "      <td>137</td>\n",
       "      <td>40</td>\n",
       "      <td>35</td>\n",
       "      <td>168</td>\n",
       "      <td>43.1</td>\n",
       "      <td>2.288</td>\n",
       "      <td>33</td>\n",
       "      <td>1</td>\n",
       "    </tr>\n",
       "  </tbody>\n",
       "</table>\n",
       "</div>"
      ],
      "text/plain": [
       "   Pregnancies  Glucose  BloodPressure  SkinThickness  Insulin   BMI  \\\n",
       "0            6      148             72             35        0  33.6   \n",
       "1            1       85             66             29        0  26.6   \n",
       "2            8      183             64              0        0  23.3   \n",
       "3            1       89             66             23       94  28.1   \n",
       "4            0      137             40             35      168  43.1   \n",
       "\n",
       "   DiabetesPedigreeFunction  Age  Outcome  \n",
       "0                     0.627   50        1  \n",
       "1                     0.351   31        0  \n",
       "2                     0.672   32        1  \n",
       "3                     0.167   21        0  \n",
       "4                     2.288   33        1  "
      ]
     },
     "execution_count": 3,
     "metadata": {},
     "output_type": "execute_result"
    }
   ],
   "source": [
    "df.head()"
   ]
  },
  {
   "cell_type": "code",
   "execution_count": 4,
   "id": "21dbf8f2",
   "metadata": {},
   "outputs": [
    {
     "data": {
      "text/plain": [
       "Pregnancies                 0.221898\n",
       "Glucose                     0.466581\n",
       "BloodPressure               0.065068\n",
       "SkinThickness               0.074752\n",
       "Insulin                     0.130548\n",
       "BMI                         0.292695\n",
       "DiabetesPedigreeFunction    0.173844\n",
       "Age                         0.238356\n",
       "Outcome                     1.000000\n",
       "Name: Outcome, dtype: float64"
      ]
     },
     "execution_count": 4,
     "metadata": {},
     "output_type": "execute_result"
    }
   ],
   "source": [
    "df.corr()['Outcome']"
   ]
  },
  {
   "cell_type": "code",
   "execution_count": 5,
   "id": "868d8ccc",
   "metadata": {},
   "outputs": [
    {
     "data": {
      "text/plain": [
       "Pregnancies                 0\n",
       "Glucose                     0\n",
       "BloodPressure               0\n",
       "SkinThickness               0\n",
       "Insulin                     0\n",
       "BMI                         0\n",
       "DiabetesPedigreeFunction    0\n",
       "Age                         0\n",
       "Outcome                     0\n",
       "dtype: int64"
      ]
     },
     "execution_count": 5,
     "metadata": {},
     "output_type": "execute_result"
    }
   ],
   "source": [
    "df.isnull().sum()"
   ]
  },
  {
   "cell_type": "code",
   "execution_count": 6,
   "id": "db95a4be",
   "metadata": {},
   "outputs": [
    {
     "name": "stdout",
     "output_type": "stream",
     "text": [
      "<class 'pandas.core.frame.DataFrame'>\n",
      "RangeIndex: 768 entries, 0 to 767\n",
      "Data columns (total 9 columns):\n",
      " #   Column                    Non-Null Count  Dtype  \n",
      "---  ------                    --------------  -----  \n",
      " 0   Pregnancies               768 non-null    int64  \n",
      " 1   Glucose                   768 non-null    int64  \n",
      " 2   BloodPressure             768 non-null    int64  \n",
      " 3   SkinThickness             768 non-null    int64  \n",
      " 4   Insulin                   768 non-null    int64  \n",
      " 5   BMI                       768 non-null    float64\n",
      " 6   DiabetesPedigreeFunction  768 non-null    float64\n",
      " 7   Age                       768 non-null    int64  \n",
      " 8   Outcome                   768 non-null    int64  \n",
      "dtypes: float64(2), int64(7)\n",
      "memory usage: 54.1 KB\n"
     ]
    }
   ],
   "source": [
    "df.info()"
   ]
  },
  {
   "cell_type": "code",
   "execution_count": 7,
   "id": "27589856",
   "metadata": {},
   "outputs": [
    {
     "data": {
      "text/plain": [
       "0"
      ]
     },
     "execution_count": 7,
     "metadata": {},
     "output_type": "execute_result"
    }
   ],
   "source": [
    "df.duplicated().sum()"
   ]
  },
  {
   "cell_type": "code",
   "execution_count": 8,
   "id": "01ec8c60",
   "metadata": {},
   "outputs": [],
   "source": [
    "X = df.drop(columns='Outcome', axis=1)\n",
    "Y = df['Outcome']"
   ]
  },
  {
   "cell_type": "code",
   "execution_count": 9,
   "id": "f31d9530",
   "metadata": {},
   "outputs": [
    {
     "name": "stdout",
     "output_type": "stream",
     "text": [
      "     Pregnancies  Glucose  BloodPressure  SkinThickness  Insulin   BMI  \\\n",
      "0              6      148             72             35        0  33.6   \n",
      "1              1       85             66             29        0  26.6   \n",
      "2              8      183             64              0        0  23.3   \n",
      "3              1       89             66             23       94  28.1   \n",
      "4              0      137             40             35      168  43.1   \n",
      "..           ...      ...            ...            ...      ...   ...   \n",
      "763           10      101             76             48      180  32.9   \n",
      "764            2      122             70             27        0  36.8   \n",
      "765            5      121             72             23      112  26.2   \n",
      "766            1      126             60              0        0  30.1   \n",
      "767            1       93             70             31        0  30.4   \n",
      "\n",
      "     DiabetesPedigreeFunction  Age  \n",
      "0                       0.627   50  \n",
      "1                       0.351   31  \n",
      "2                       0.672   32  \n",
      "3                       0.167   21  \n",
      "4                       2.288   33  \n",
      "..                        ...  ...  \n",
      "763                     0.171   63  \n",
      "764                     0.340   27  \n",
      "765                     0.245   30  \n",
      "766                     0.349   47  \n",
      "767                     0.315   23  \n",
      "\n",
      "[768 rows x 8 columns]\n",
      "0      1\n",
      "1      0\n",
      "2      1\n",
      "3      0\n",
      "4      1\n",
      "      ..\n",
      "763    0\n",
      "764    0\n",
      "765    0\n",
      "766    1\n",
      "767    0\n",
      "Name: Outcome, Length: 768, dtype: int64\n"
     ]
    }
   ],
   "source": [
    "print(X)\n",
    "print(Y)"
   ]
  },
  {
   "cell_type": "code",
   "execution_count": 10,
   "id": "c06d0c7e",
   "metadata": {},
   "outputs": [],
   "source": [
    "from sklearn.preprocessing import StandardScaler"
   ]
  },
  {
   "cell_type": "code",
   "execution_count": 11,
   "id": "18842dca",
   "metadata": {},
   "outputs": [],
   "source": [
    "scaler = StandardScaler()"
   ]
  },
  {
   "cell_type": "code",
   "execution_count": 12,
   "id": "18dab87f",
   "metadata": {},
   "outputs": [],
   "source": [
    "X = scaler.fit_transform(X)"
   ]
  },
  {
   "cell_type": "code",
   "execution_count": 13,
   "id": "3637ed59",
   "metadata": {},
   "outputs": [
    {
     "name": "stdout",
     "output_type": "stream",
     "text": [
      "[[ 0.63994726  0.84832379  0.14964075 ...  0.20401277  0.46849198\n",
      "   1.4259954 ]\n",
      " [-0.84488505 -1.12339636 -0.16054575 ... -0.68442195 -0.36506078\n",
      "  -0.19067191]\n",
      " [ 1.23388019  1.94372388 -0.26394125 ... -1.10325546  0.60439732\n",
      "  -0.10558415]\n",
      " ...\n",
      " [ 0.3429808   0.00330087  0.14964075 ... -0.73518964 -0.68519336\n",
      "  -0.27575966]\n",
      " [-0.84488505  0.1597866  -0.47073225 ... -0.24020459 -0.37110101\n",
      "   1.17073215]\n",
      " [-0.84488505 -0.8730192   0.04624525 ... -0.20212881 -0.47378505\n",
      "  -0.87137393]]\n"
     ]
    }
   ],
   "source": [
    "print(X)"
   ]
  },
  {
   "cell_type": "code",
   "execution_count": 14,
   "id": "173d9007",
   "metadata": {},
   "outputs": [],
   "source": [
    "from sklearn.model_selection import train_test_split"
   ]
  },
  {
   "cell_type": "code",
   "execution_count": 15,
   "id": "db4a1873",
   "metadata": {},
   "outputs": [],
   "source": [
    "X_train,X_test,Y_train,Y_test = train_test_split(X,Y,test_size=0.1,random_state=1)"
   ]
  },
  {
   "cell_type": "code",
   "execution_count": 16,
   "id": "66a5bd68",
   "metadata": {},
   "outputs": [
    {
     "name": "stdout",
     "output_type": "stream",
     "text": [
      "(768, 8) (691, 8) (77, 8)\n"
     ]
    }
   ],
   "source": [
    "print(X.shape,X_train.shape,X_test.shape)"
   ]
  },
  {
   "cell_type": "code",
   "execution_count": 17,
   "id": "8c2ac337",
   "metadata": {},
   "outputs": [],
   "source": [
    "import tensorflow\n",
    "from tensorflow import keras\n",
    "from keras import Sequential\n",
    "from keras.layers import Dense"
   ]
  },
  {
   "cell_type": "code",
   "execution_count": 18,
   "id": "fd5fc722",
   "metadata": {},
   "outputs": [],
   "source": [
    "model = Sequential()"
   ]
  },
  {
   "cell_type": "code",
   "execution_count": 19,
   "id": "9d719659",
   "metadata": {},
   "outputs": [],
   "source": [
    "model.add(Dense(32,activation='relu',input_dim=8))\n",
    "model.add(Dense(1, activation='sigmoid'))\n",
    "\n",
    "model.compile(optimizer='Adam',loss='binary_crossentropy',metrics=['accuracy'])"
   ]
  },
  {
   "cell_type": "code",
   "execution_count": 20,
   "id": "99d6a0f2",
   "metadata": {},
   "outputs": [
    {
     "name": "stdout",
     "output_type": "stream",
     "text": [
      "Epoch 1/10\n",
      "22/22 [==============================] - 4s 9ms/step - loss: 0.8548 - accuracy: 0.2808\n",
      "Epoch 2/10\n",
      "22/22 [==============================] - 0s 9ms/step - loss: 0.7589 - accuracy: 0.3676\n",
      "Epoch 3/10\n",
      "22/22 [==============================] - 0s 7ms/step - loss: 0.6900 - accuracy: 0.5745\n",
      "Epoch 4/10\n",
      "22/22 [==============================] - 0s 7ms/step - loss: 0.6400 - accuracy: 0.6556\n",
      "Epoch 5/10\n",
      "22/22 [==============================] - 0s 7ms/step - loss: 0.6028 - accuracy: 0.6932\n",
      "Epoch 6/10\n",
      "22/22 [==============================] - 0s 7ms/step - loss: 0.5735 - accuracy: 0.7062\n",
      "Epoch 7/10\n",
      "22/22 [==============================] - 0s 7ms/step - loss: 0.5508 - accuracy: 0.7192\n",
      "Epoch 8/10\n",
      "22/22 [==============================] - 0s 7ms/step - loss: 0.5326 - accuracy: 0.7352\n",
      "Epoch 9/10\n",
      "22/22 [==============================] - 0s 7ms/step - loss: 0.5185 - accuracy: 0.7482\n",
      "Epoch 10/10\n",
      "22/22 [==============================] - 0s 7ms/step - loss: 0.5061 - accuracy: 0.7569\n"
     ]
    },
    {
     "data": {
      "text/plain": [
       "<keras.callbacks.History at 0x1ddb62a1690>"
      ]
     },
     "execution_count": 20,
     "metadata": {},
     "output_type": "execute_result"
    }
   ],
   "source": [
    "model.fit(X_train,Y_train,batch_size=32,epochs=10)"
   ]
  },
  {
   "cell_type": "markdown",
   "id": "b1f3a6bf",
   "metadata": {},
   "source": [
    "# Hyperparameter for Layers \n",
    "\n",
    "## THis process was give me best Number of Layers for our model"
   ]
  },
  {
   "cell_type": "code",
   "execution_count": 31,
   "id": "68eb8c34",
   "metadata": {},
   "outputs": [],
   "source": [
    "import keras_tuner as kt"
   ]
  },
  {
   "cell_type": "code",
   "execution_count": 32,
   "id": "17e750b0",
   "metadata": {},
   "outputs": [],
   "source": [
    "def bild_model(hp):\n",
    "    \n",
    "    model = Sequential()\n",
    "    \n",
    "    model.add(Dense(87, activation='relu',input_dim=8))\n",
    "    \n",
    "    for i in range(hp.Int('units',min_value=1,max_value=10)):\n",
    "        \n",
    "        model.add(Dense(87,activation='relu'))\n",
    "        \n",
    "        model.add(Dense(1,activation='sigmoid'))\n",
    "        \n",
    "        model.compile(optimizer='RMSprop',loss='binary_crossentropy', metrics=['accuracy'])\n",
    "        \n",
    "        return model"
   ]
  },
  {
   "cell_type": "code",
   "execution_count": 33,
   "id": "13f108fd",
   "metadata": {},
   "outputs": [
    {
     "name": "stdout",
     "output_type": "stream",
     "text": [
      "INFO:tensorflow:Reloading Tuner from layer_dic\\num_layer\\tuner0.json\n"
     ]
    }
   ],
   "source": [
    "tuner = kt.RandomSearch(bild_model,objective='val_accuracy',max_trials=3,directory='layer_dic',project_name='num_layer')"
   ]
  },
  {
   "cell_type": "code",
   "execution_count": 34,
   "id": "9c84a9a4",
   "metadata": {},
   "outputs": [
    {
     "name": "stdout",
     "output_type": "stream",
     "text": [
      "INFO:tensorflow:Oracle triggered exit\n"
     ]
    }
   ],
   "source": [
    "tuner.search(X_train,Y_train,epochs=5,validation_data=(X_test,Y_test))"
   ]
  },
  {
   "cell_type": "code",
   "execution_count": 35,
   "id": "897c5956",
   "metadata": {},
   "outputs": [
    {
     "data": {
      "text/plain": [
       "{'units': 2}"
      ]
     },
     "execution_count": 35,
     "metadata": {},
     "output_type": "execute_result"
    }
   ],
   "source": [
    "tuner.get_best_hyperparameters()[0].values"
   ]
  },
  {
   "cell_type": "code",
   "execution_count": 36,
   "id": "8b2d0ea1",
   "metadata": {},
   "outputs": [],
   "source": [
    "model = tuner.get_best_models(num_models=1)[0]"
   ]
  },
  {
   "cell_type": "code",
   "execution_count": 43,
   "id": "91d3a779",
   "metadata": {},
   "outputs": [
    {
     "name": "stdout",
     "output_type": "stream",
     "text": [
      "Epoch 8/100\n",
      "22/22 [==============================] - 0s 14ms/step - loss: 0.0013 - accuracy: 1.0000 - val_loss: 1.1662 - val_accuracy: 0.7403\n",
      "Epoch 9/100\n",
      "22/22 [==============================] - 0s 9ms/step - loss: 0.0011 - accuracy: 1.0000 - val_loss: 1.0710 - val_accuracy: 0.7922\n",
      "Epoch 10/100\n",
      "22/22 [==============================] - 0s 11ms/step - loss: 9.7226e-04 - accuracy: 1.0000 - val_loss: 1.1108 - val_accuracy: 0.7662\n",
      "Epoch 11/100\n",
      "22/22 [==============================] - 0s 11ms/step - loss: 0.0015 - accuracy: 1.0000 - val_loss: 1.1122 - val_accuracy: 0.7792\n",
      "Epoch 12/100\n",
      "22/22 [==============================] - 0s 9ms/step - loss: 0.0016 - accuracy: 1.0000 - val_loss: 1.0826 - val_accuracy: 0.8052\n",
      "Epoch 13/100\n",
      "22/22 [==============================] - 0s 10ms/step - loss: 7.7960e-04 - accuracy: 1.0000 - val_loss: 1.1077 - val_accuracy: 0.7792\n",
      "Epoch 14/100\n",
      "22/22 [==============================] - 0s 9ms/step - loss: 8.9899e-04 - accuracy: 1.0000 - val_loss: 1.1334 - val_accuracy: 0.7662\n",
      "Epoch 15/100\n",
      "22/22 [==============================] - 0s 10ms/step - loss: 0.0020 - accuracy: 1.0000 - val_loss: 1.1665 - val_accuracy: 0.7532\n",
      "Epoch 16/100\n",
      "22/22 [==============================] - 0s 8ms/step - loss: 0.0011 - accuracy: 1.0000 - val_loss: 1.0745 - val_accuracy: 0.7792\n",
      "Epoch 17/100\n",
      "22/22 [==============================] - 0s 9ms/step - loss: 0.0010 - accuracy: 1.0000 - val_loss: 1.0875 - val_accuracy: 0.7792\n",
      "Epoch 18/100\n",
      "22/22 [==============================] - 0s 11ms/step - loss: 0.0011 - accuracy: 1.0000 - val_loss: 1.0990 - val_accuracy: 0.7662\n",
      "Epoch 19/100\n",
      "22/22 [==============================] - 0s 9ms/step - loss: 9.3771e-04 - accuracy: 1.0000 - val_loss: 1.2163 - val_accuracy: 0.7792\n",
      "Epoch 20/100\n",
      "22/22 [==============================] - 0s 11ms/step - loss: 0.0011 - accuracy: 1.0000 - val_loss: 1.1290 - val_accuracy: 0.7792\n",
      "Epoch 21/100\n",
      "22/22 [==============================] - 0s 17ms/step - loss: 8.1001e-04 - accuracy: 1.0000 - val_loss: 1.1140 - val_accuracy: 0.8052\n",
      "Epoch 22/100\n",
      "22/22 [==============================] - 0s 9ms/step - loss: 0.0010 - accuracy: 1.0000 - val_loss: 1.2427 - val_accuracy: 0.7662\n",
      "Epoch 23/100\n",
      "22/22 [==============================] - 0s 13ms/step - loss: 9.0973e-04 - accuracy: 1.0000 - val_loss: 1.1863 - val_accuracy: 0.7792\n",
      "Epoch 24/100\n",
      "22/22 [==============================] - 0s 10ms/step - loss: 8.7920e-04 - accuracy: 1.0000 - val_loss: 1.1605 - val_accuracy: 0.7662\n",
      "Epoch 25/100\n",
      "22/22 [==============================] - 0s 10ms/step - loss: 9.3057e-04 - accuracy: 1.0000 - val_loss: 1.2004 - val_accuracy: 0.7532\n",
      "Epoch 26/100\n",
      "22/22 [==============================] - 0s 10ms/step - loss: 0.0022 - accuracy: 1.0000 - val_loss: 1.2001 - val_accuracy: 0.7662\n",
      "Epoch 27/100\n",
      "22/22 [==============================] - 0s 10ms/step - loss: 5.6769e-04 - accuracy: 1.0000 - val_loss: 1.1438 - val_accuracy: 0.7662\n",
      "Epoch 28/100\n",
      "22/22 [==============================] - 0s 9ms/step - loss: 5.9939e-04 - accuracy: 1.0000 - val_loss: 1.1444 - val_accuracy: 0.7792\n",
      "Epoch 29/100\n",
      "22/22 [==============================] - 0s 15ms/step - loss: 0.0010 - accuracy: 1.0000 - val_loss: 1.1821 - val_accuracy: 0.7792\n",
      "Epoch 30/100\n",
      "22/22 [==============================] - 0s 9ms/step - loss: 0.0013 - accuracy: 1.0000 - val_loss: 1.2080 - val_accuracy: 0.7792\n",
      "Epoch 31/100\n",
      "22/22 [==============================] - 0s 10ms/step - loss: 6.5247e-04 - accuracy: 1.0000 - val_loss: 1.1201 - val_accuracy: 0.8182\n",
      "Epoch 32/100\n",
      "22/22 [==============================] - 0s 10ms/step - loss: 0.0022 - accuracy: 0.9986 - val_loss: 1.1435 - val_accuracy: 0.7532\n",
      "Epoch 33/100\n",
      "22/22 [==============================] - 0s 13ms/step - loss: 0.0011 - accuracy: 1.0000 - val_loss: 1.1428 - val_accuracy: 0.7662\n",
      "Epoch 34/100\n",
      "22/22 [==============================] - 0s 9ms/step - loss: 5.4183e-04 - accuracy: 1.0000 - val_loss: 1.1140 - val_accuracy: 0.7922\n",
      "Epoch 35/100\n",
      "22/22 [==============================] - 0s 10ms/step - loss: 0.0011 - accuracy: 1.0000 - val_loss: 1.2490 - val_accuracy: 0.7532\n",
      "Epoch 36/100\n",
      "22/22 [==============================] - 0s 10ms/step - loss: 6.9748e-04 - accuracy: 1.0000 - val_loss: 1.1265 - val_accuracy: 0.8052\n",
      "Epoch 37/100\n",
      "22/22 [==============================] - 0s 11ms/step - loss: 4.8835e-04 - accuracy: 1.0000 - val_loss: 1.1506 - val_accuracy: 0.7792\n",
      "Epoch 38/100\n",
      "22/22 [==============================] - 0s 10ms/step - loss: 6.9326e-04 - accuracy: 1.0000 - val_loss: 1.1377 - val_accuracy: 0.7792\n",
      "Epoch 39/100\n",
      "22/22 [==============================] - 0s 9ms/step - loss: 7.1838e-04 - accuracy: 1.0000 - val_loss: 1.1228 - val_accuracy: 0.8182\n",
      "Epoch 40/100\n",
      "22/22 [==============================] - 0s 10ms/step - loss: 6.8251e-04 - accuracy: 1.0000 - val_loss: 1.2234 - val_accuracy: 0.7662\n",
      "Epoch 41/100\n",
      "22/22 [==============================] - 0s 9ms/step - loss: 0.0013 - accuracy: 1.0000 - val_loss: 1.1874 - val_accuracy: 0.7662\n",
      "Epoch 42/100\n",
      "22/22 [==============================] - 0s 10ms/step - loss: 4.7965e-04 - accuracy: 1.0000 - val_loss: 1.1496 - val_accuracy: 0.7532\n",
      "Epoch 43/100\n",
      "22/22 [==============================] - 0s 12ms/step - loss: 5.4727e-04 - accuracy: 1.0000 - val_loss: 1.1774 - val_accuracy: 0.7662\n",
      "Epoch 44/100\n",
      "22/22 [==============================] - 0s 8ms/step - loss: 0.0014 - accuracy: 1.0000 - val_loss: 1.1566 - val_accuracy: 0.7792\n",
      "Epoch 45/100\n",
      "22/22 [==============================] - 0s 11ms/step - loss: 4.9503e-04 - accuracy: 1.0000 - val_loss: 1.1487 - val_accuracy: 0.7792\n",
      "Epoch 46/100\n",
      "22/22 [==============================] - 0s 9ms/step - loss: 7.2687e-04 - accuracy: 1.0000 - val_loss: 1.1964 - val_accuracy: 0.7532\n",
      "Epoch 47/100\n",
      "22/22 [==============================] - 0s 11ms/step - loss: 7.4534e-04 - accuracy: 1.0000 - val_loss: 1.1858 - val_accuracy: 0.7662\n",
      "Epoch 48/100\n",
      "22/22 [==============================] - 0s 10ms/step - loss: 4.1509e-04 - accuracy: 1.0000 - val_loss: 1.1910 - val_accuracy: 0.7662\n",
      "Epoch 49/100\n",
      "22/22 [==============================] - 0s 10ms/step - loss: 4.1972e-04 - accuracy: 1.0000 - val_loss: 1.2068 - val_accuracy: 0.7922\n",
      "Epoch 50/100\n",
      "22/22 [==============================] - 0s 10ms/step - loss: 6.3143e-04 - accuracy: 1.0000 - val_loss: 1.1943 - val_accuracy: 0.7662\n",
      "Epoch 51/100\n",
      "22/22 [==============================] - 0s 9ms/step - loss: 6.0841e-04 - accuracy: 1.0000 - val_loss: 1.1864 - val_accuracy: 0.7662\n",
      "Epoch 52/100\n",
      "22/22 [==============================] - 0s 11ms/step - loss: 5.7717e-04 - accuracy: 1.0000 - val_loss: 1.1860 - val_accuracy: 0.7922\n",
      "Epoch 53/100\n",
      "22/22 [==============================] - 0s 12ms/step - loss: 4.9872e-04 - accuracy: 1.0000 - val_loss: 1.2009 - val_accuracy: 0.7662\n",
      "Epoch 54/100\n",
      "22/22 [==============================] - 0s 10ms/step - loss: 3.6281e-04 - accuracy: 1.0000 - val_loss: 1.2201 - val_accuracy: 0.7792\n",
      "Epoch 55/100\n",
      "22/22 [==============================] - 0s 8ms/step - loss: 0.0012 - accuracy: 1.0000 - val_loss: 1.1866 - val_accuracy: 0.7792\n",
      "Epoch 56/100\n",
      "22/22 [==============================] - 0s 7ms/step - loss: 3.8481e-04 - accuracy: 1.0000 - val_loss: 1.2004 - val_accuracy: 0.7662\n",
      "Epoch 57/100\n",
      "22/22 [==============================] - 0s 7ms/step - loss: 3.7434e-04 - accuracy: 1.0000 - val_loss: 1.1986 - val_accuracy: 0.7792\n",
      "Epoch 58/100\n",
      "22/22 [==============================] - 0s 8ms/step - loss: 3.3246e-04 - accuracy: 1.0000 - val_loss: 1.1765 - val_accuracy: 0.7662\n",
      "Epoch 59/100\n",
      "22/22 [==============================] - 0s 12ms/step - loss: 5.1574e-04 - accuracy: 1.0000 - val_loss: 1.1824 - val_accuracy: 0.8052\n",
      "Epoch 60/100\n",
      "22/22 [==============================] - 0s 8ms/step - loss: 3.8082e-04 - accuracy: 1.0000 - val_loss: 1.1905 - val_accuracy: 0.7532\n",
      "Epoch 61/100\n",
      "22/22 [==============================] - 0s 9ms/step - loss: 4.4902e-04 - accuracy: 1.0000 - val_loss: 1.1299 - val_accuracy: 0.7922\n",
      "Epoch 62/100\n",
      "22/22 [==============================] - 0s 12ms/step - loss: 4.2364e-04 - accuracy: 1.0000 - val_loss: 1.2931 - val_accuracy: 0.7792\n",
      "Epoch 63/100\n",
      "22/22 [==============================] - 0s 8ms/step - loss: 4.0599e-04 - accuracy: 1.0000 - val_loss: 1.2356 - val_accuracy: 0.7532\n",
      "Epoch 64/100\n"
     ]
    },
    {
     "name": "stdout",
     "output_type": "stream",
     "text": [
      "22/22 [==============================] - 0s 9ms/step - loss: 7.5657e-04 - accuracy: 1.0000 - val_loss: 1.2013 - val_accuracy: 0.7662\n",
      "Epoch 65/100\n",
      "22/22 [==============================] - 0s 8ms/step - loss: 3.1893e-04 - accuracy: 1.0000 - val_loss: 1.2202 - val_accuracy: 0.7792\n",
      "Epoch 66/100\n",
      "22/22 [==============================] - 0s 9ms/step - loss: 3.0760e-04 - accuracy: 1.0000 - val_loss: 1.2282 - val_accuracy: 0.7922\n",
      "Epoch 67/100\n",
      "22/22 [==============================] - 0s 11ms/step - loss: 4.2056e-04 - accuracy: 1.0000 - val_loss: 1.2017 - val_accuracy: 0.7662\n",
      "Epoch 68/100\n",
      "22/22 [==============================] - 0s 8ms/step - loss: 4.0823e-04 - accuracy: 1.0000 - val_loss: 1.2271 - val_accuracy: 0.7792\n",
      "Epoch 69/100\n",
      "22/22 [==============================] - 0s 8ms/step - loss: 4.4256e-04 - accuracy: 1.0000 - val_loss: 1.2995 - val_accuracy: 0.7662\n",
      "Epoch 70/100\n",
      "22/22 [==============================] - 0s 8ms/step - loss: 8.4406e-04 - accuracy: 1.0000 - val_loss: 1.2324 - val_accuracy: 0.7792\n",
      "Epoch 71/100\n",
      "22/22 [==============================] - 0s 8ms/step - loss: 4.2644e-04 - accuracy: 1.0000 - val_loss: 1.2439 - val_accuracy: 0.7662\n",
      "Epoch 72/100\n",
      "22/22 [==============================] - 0s 8ms/step - loss: 2.4189e-04 - accuracy: 1.0000 - val_loss: 1.1903 - val_accuracy: 0.7792\n",
      "Epoch 73/100\n",
      "22/22 [==============================] - 0s 9ms/step - loss: 2.9732e-04 - accuracy: 1.0000 - val_loss: 1.2547 - val_accuracy: 0.7662\n",
      "Epoch 74/100\n",
      "22/22 [==============================] - 0s 9ms/step - loss: 3.2111e-04 - accuracy: 1.0000 - val_loss: 1.2505 - val_accuracy: 0.7532\n",
      "Epoch 75/100\n",
      "22/22 [==============================] - 0s 8ms/step - loss: 5.7007e-04 - accuracy: 1.0000 - val_loss: 1.2129 - val_accuracy: 0.7922\n",
      "Epoch 76/100\n",
      "22/22 [==============================] - 0s 10ms/step - loss: 2.9015e-04 - accuracy: 1.0000 - val_loss: 1.2326 - val_accuracy: 0.7922\n",
      "Epoch 77/100\n",
      "22/22 [==============================] - 0s 8ms/step - loss: 2.9313e-04 - accuracy: 1.0000 - val_loss: 1.2900 - val_accuracy: 0.7532\n",
      "Epoch 78/100\n",
      "22/22 [==============================] - 0s 8ms/step - loss: 4.6519e-04 - accuracy: 1.0000 - val_loss: 1.2577 - val_accuracy: 0.7792\n",
      "Epoch 79/100\n",
      "22/22 [==============================] - 0s 8ms/step - loss: 2.5862e-04 - accuracy: 1.0000 - val_loss: 1.2686 - val_accuracy: 0.7792\n",
      "Epoch 80/100\n",
      "22/22 [==============================] - 0s 7ms/step - loss: 2.8733e-04 - accuracy: 1.0000 - val_loss: 1.2368 - val_accuracy: 0.7792\n",
      "Epoch 81/100\n",
      "22/22 [==============================] - 0s 7ms/step - loss: 4.8351e-04 - accuracy: 1.0000 - val_loss: 1.2480 - val_accuracy: 0.7792\n",
      "Epoch 82/100\n",
      "22/22 [==============================] - 0s 7ms/step - loss: 3.2576e-04 - accuracy: 1.0000 - val_loss: 1.2281 - val_accuracy: 0.7662\n",
      "Epoch 83/100\n",
      "22/22 [==============================] - 0s 8ms/step - loss: 2.2243e-04 - accuracy: 1.0000 - val_loss: 1.2878 - val_accuracy: 0.7532\n",
      "Epoch 84/100\n",
      "22/22 [==============================] - 0s 7ms/step - loss: 3.3182e-04 - accuracy: 1.0000 - val_loss: 1.4532 - val_accuracy: 0.7662\n",
      "Epoch 85/100\n",
      "22/22 [==============================] - 0s 8ms/step - loss: 2.8484e-04 - accuracy: 1.0000 - val_loss: 1.3133 - val_accuracy: 0.7662\n",
      "Epoch 86/100\n",
      "22/22 [==============================] - 0s 8ms/step - loss: 2.3144e-04 - accuracy: 1.0000 - val_loss: 1.2845 - val_accuracy: 0.7662\n",
      "Epoch 87/100\n",
      "22/22 [==============================] - 0s 8ms/step - loss: 2.3207e-04 - accuracy: 1.0000 - val_loss: 1.2664 - val_accuracy: 0.7922\n",
      "Epoch 88/100\n",
      "22/22 [==============================] - 0s 8ms/step - loss: 3.0391e-04 - accuracy: 1.0000 - val_loss: 1.2967 - val_accuracy: 0.7792\n",
      "Epoch 89/100\n",
      "22/22 [==============================] - 0s 7ms/step - loss: 7.1138e-04 - accuracy: 1.0000 - val_loss: 1.2613 - val_accuracy: 0.7532\n",
      "Epoch 90/100\n",
      "22/22 [==============================] - 0s 10ms/step - loss: 2.2145e-04 - accuracy: 1.0000 - val_loss: 1.2736 - val_accuracy: 0.7532\n",
      "Epoch 91/100\n",
      "22/22 [==============================] - 0s 8ms/step - loss: 1.9128e-04 - accuracy: 1.0000 - val_loss: 1.2740 - val_accuracy: 0.7662\n",
      "Epoch 92/100\n",
      "22/22 [==============================] - 0s 8ms/step - loss: 2.1033e-04 - accuracy: 1.0000 - val_loss: 1.3544 - val_accuracy: 0.7792\n",
      "Epoch 93/100\n",
      "22/22 [==============================] - 0s 8ms/step - loss: 2.5033e-04 - accuracy: 1.0000 - val_loss: 1.2711 - val_accuracy: 0.7662\n",
      "Epoch 94/100\n",
      "22/22 [==============================] - 0s 8ms/step - loss: 4.5146e-04 - accuracy: 1.0000 - val_loss: 1.2413 - val_accuracy: 0.7792\n",
      "Epoch 95/100\n",
      "22/22 [==============================] - 0s 8ms/step - loss: 2.4916e-04 - accuracy: 1.0000 - val_loss: 1.2871 - val_accuracy: 0.7532\n",
      "Epoch 96/100\n",
      "22/22 [==============================] - 0s 9ms/step - loss: 2.1778e-04 - accuracy: 1.0000 - val_loss: 1.3345 - val_accuracy: 0.7532\n",
      "Epoch 97/100\n",
      "22/22 [==============================] - 0s 8ms/step - loss: 4.2657e-04 - accuracy: 1.0000 - val_loss: 1.3337 - val_accuracy: 0.7662\n",
      "Epoch 98/100\n",
      "22/22 [==============================] - 0s 8ms/step - loss: 2.0830e-04 - accuracy: 1.0000 - val_loss: 1.2608 - val_accuracy: 0.7792\n",
      "Epoch 99/100\n",
      "22/22 [==============================] - 0s 7ms/step - loss: 1.9863e-04 - accuracy: 1.0000 - val_loss: 1.2982 - val_accuracy: 0.7662\n",
      "Epoch 100/100\n",
      "22/22 [==============================] - 0s 9ms/step - loss: 1.9898e-04 - accuracy: 1.0000 - val_loss: 1.2524 - val_accuracy: 0.8052\n"
     ]
    },
    {
     "data": {
      "text/plain": [
       "<keras.callbacks.History at 0x1ddb9346750>"
      ]
     },
     "execution_count": 43,
     "metadata": {},
     "output_type": "execute_result"
    }
   ],
   "source": [
    "model.fit(X_train,Y_train,epochs=100,initial_epoch=7, validation_data=(X_test,Y_test))"
   ]
  },
  {
   "cell_type": "code",
   "execution_count": null,
   "id": "b806a152",
   "metadata": {},
   "outputs": [],
   "source": []
  }
 ],
 "metadata": {
  "kernelspec": {
   "display_name": "Python 3 (ipykernel)",
   "language": "python",
   "name": "python3"
  },
  "language_info": {
   "codemirror_mode": {
    "name": "ipython",
    "version": 3
   },
   "file_extension": ".py",
   "mimetype": "text/x-python",
   "name": "python",
   "nbconvert_exporter": "python",
   "pygments_lexer": "ipython3",
   "version": "3.11.2"
  }
 },
 "nbformat": 4,
 "nbformat_minor": 5
}
