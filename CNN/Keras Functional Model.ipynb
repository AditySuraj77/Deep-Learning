{
 "cells": [
  {
   "cell_type": "code",
   "execution_count": 16,
   "id": "92c490fb",
   "metadata": {},
   "outputs": [],
   "source": [
    "from keras.models import Model"
   ]
  },
  {
   "cell_type": "code",
   "execution_count": 29,
   "id": "10654490",
   "metadata": {},
   "outputs": [],
   "source": [
    "model = Model(inputs=x,outputs=[output1,output2])"
   ]
  },
  {
   "cell_type": "code",
   "execution_count": 30,
   "id": "b1110b84",
   "metadata": {},
   "outputs": [],
   "source": [
    "from keras.layers import *"
   ]
  },
  {
   "cell_type": "code",
   "execution_count": 31,
   "id": "5fb2898d",
   "metadata": {},
   "outputs": [],
   "source": [
    "x = Input(shape=(3,))"
   ]
  },
  {
   "cell_type": "code",
   "execution_count": 32,
   "id": "a2345a4f",
   "metadata": {},
   "outputs": [],
   "source": [
    "hidden1 = Dense(128,activation='relu')(x)\n",
    "hidden2 =Dense(64,activation='relu')(hidden1)"
   ]
  },
  {
   "cell_type": "code",
   "execution_count": 33,
   "id": "a2b2a197",
   "metadata": {},
   "outputs": [],
   "source": [
    "output1 = Dense(1,activation='linear')(hidden2)\n",
    "output2 = Dense(1,activation='sigmoid')(hidden2)"
   ]
  },
  {
   "cell_type": "code",
   "execution_count": 34,
   "id": "8ed127c1",
   "metadata": {},
   "outputs": [
    {
     "name": "stdout",
     "output_type": "stream",
     "text": [
      "Model: \"model\"\n",
      "__________________________________________________________________________________________________\n",
      " Layer (type)                   Output Shape         Param #     Connected to                     \n",
      "==================================================================================================\n",
      " input_1 (InputLayer)           [(None, 3)]          0           []                               \n",
      "                                                                                                  \n",
      " dense (Dense)                  (None, 128)          512         ['input_1[0][0]']                \n",
      "                                                                                                  \n",
      " dense_1 (Dense)                (None, 64)           8256        ['dense[0][0]']                  \n",
      "                                                                                                  \n",
      " dense_2 (Dense)                (None, 1)            65          ['dense_1[0][0]']                \n",
      "                                                                                                  \n",
      " dense_3 (Dense)                (None, 1)            65          ['dense_1[0][0]']                \n",
      "                                                                                                  \n",
      "==================================================================================================\n",
      "Total params: 8,898\n",
      "Trainable params: 8,898\n",
      "Non-trainable params: 0\n",
      "__________________________________________________________________________________________________\n"
     ]
    }
   ],
   "source": [
    "model.summary()"
   ]
  },
  {
   "cell_type": "markdown",
   "id": "65c74985",
   "metadata": {},
   "source": [
    "## Multiple inputs"
   ]
  },
  {
   "cell_type": "code",
   "execution_count": 59,
   "id": "9923e6a1",
   "metadata": {},
   "outputs": [],
   "source": [
    "input1 = Input(shape=(32,))\n",
    "input2 = Input(shape=(128,))"
   ]
  },
  {
   "cell_type": "code",
   "execution_count": 60,
   "id": "3ee409af",
   "metadata": {},
   "outputs": [],
   "source": [
    "x = Dense(8,activation='relu')(input1)\n",
    "x2 = Dense(4,activation='relu')(x)"
   ]
  },
  {
   "cell_type": "code",
   "execution_count": 62,
   "id": "fb695434",
   "metadata": {},
   "outputs": [],
   "source": [
    "y = Dense(64,activation='relu')(input2)\n",
    "y1 = Dense(32 ,activation='relu')(y)\n",
    "y2 = Dense(4,activation='relu')(y1)"
   ]
  },
  {
   "cell_type": "code",
   "execution_count": 64,
   "id": "9845ea77",
   "metadata": {},
   "outputs": [],
   "source": [
    "combined = concatenate([x2,y2])"
   ]
  },
  {
   "cell_type": "code",
   "execution_count": 65,
   "id": "7794dc00",
   "metadata": {},
   "outputs": [],
   "source": [
    "z = Dense(2,activation='relu')(combined)\n",
    "z1 = Dense(1,activation='sigmoid')(z)"
   ]
  },
  {
   "cell_type": "code",
   "execution_count": 66,
   "id": "afcc88f8",
   "metadata": {},
   "outputs": [],
   "source": [
    "model = Model(inputs=[input1,input2],outputs=z1)"
   ]
  },
  {
   "cell_type": "code",
   "execution_count": 67,
   "id": "8a2afbd0",
   "metadata": {},
   "outputs": [
    {
     "name": "stdout",
     "output_type": "stream",
     "text": [
      "Model: \"model_1\"\n",
      "__________________________________________________________________________________________________\n",
      " Layer (type)                   Output Shape         Param #     Connected to                     \n",
      "==================================================================================================\n",
      " input_4 (InputLayer)           [(None, 128)]        0           []                               \n",
      "                                                                                                  \n",
      " input_3 (InputLayer)           [(None, 32)]         0           []                               \n",
      "                                                                                                  \n",
      " dense_10 (Dense)               (None, 64)           8256        ['input_4[0][0]']                \n",
      "                                                                                                  \n",
      " dense_8 (Dense)                (None, 8)            264         ['input_3[0][0]']                \n",
      "                                                                                                  \n",
      " dense_11 (Dense)               (None, 32)           2080        ['dense_10[0][0]']               \n",
      "                                                                                                  \n",
      " dense_9 (Dense)                (None, 4)            36          ['dense_8[0][0]']                \n",
      "                                                                                                  \n",
      " dense_12 (Dense)               (None, 4)            132         ['dense_11[0][0]']               \n",
      "                                                                                                  \n",
      " concatenate_1 (Concatenate)    (None, 8)            0           ['dense_9[0][0]',                \n",
      "                                                                  'dense_12[0][0]']               \n",
      "                                                                                                  \n",
      " dense_13 (Dense)               (None, 2)            18          ['concatenate_1[0][0]']          \n",
      "                                                                                                  \n",
      " dense_14 (Dense)               (None, 1)            3           ['dense_13[0][0]']               \n",
      "                                                                                                  \n",
      "==================================================================================================\n",
      "Total params: 10,789\n",
      "Trainable params: 10,789\n",
      "Non-trainable params: 0\n",
      "__________________________________________________________________________________________________\n"
     ]
    }
   ],
   "source": [
    "model.summary()"
   ]
  },
  {
   "cell_type": "code",
   "execution_count": null,
   "id": "7437a921",
   "metadata": {},
   "outputs": [],
   "source": []
  }
 ],
 "metadata": {
  "kernelspec": {
   "display_name": "Python 3 (ipykernel)",
   "language": "python",
   "name": "python3"
  },
  "language_info": {
   "codemirror_mode": {
    "name": "ipython",
    "version": 3
   },
   "file_extension": ".py",
   "mimetype": "text/x-python",
   "name": "python",
   "nbconvert_exporter": "python",
   "pygments_lexer": "ipython3",
   "version": "3.11.2"
  }
 },
 "nbformat": 4,
 "nbformat_minor": 5
}
